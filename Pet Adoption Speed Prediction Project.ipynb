{
 "cells": [
  {
   "cell_type": "markdown",
   "metadata": {},
   "source": [
    "# Pet Adoption Speed Prediction Project"
   ]
  },
  {
   "cell_type": "markdown",
   "metadata": {},
   "source": [
    "# Contents \n",
    "**1. Data Exploration**\n",
    "\n",
    "**2. Data Visualisation**\n",
    "\n",
    "**3. Modelling Factors Affecting Adoption Speed**\n",
    "\n",
    "**4. Prediction**\n",
    "\n",
    "**5. Future Analysis Extension**"
   ]
  },
  {
   "cell_type": "code",
   "execution_count": 1,
   "metadata": {},
   "outputs": [
    {
     "name": "stderr",
     "output_type": "stream",
     "text": [
      "/Users/aashrit/anaconda3/lib/python3.7/site-packages/statsmodels/tools/_testing.py:19: FutureWarning: pandas.util.testing is deprecated. Use the functions in the public API at pandas.testing instead.\n",
      "  import pandas.util.testing as tm\n"
     ]
    }
   ],
   "source": [
    "import pandas as pd\n",
    "import numpy as np\n",
    "import seaborn as sns\n",
    "import matplotlib.pyplot as plt"
   ]
  },
  {
   "cell_type": "code",
   "execution_count": 2,
   "metadata": {},
   "outputs": [],
   "source": [
    "#Loading the data\n",
    "data = pd.read_csv(\"/Users/aashrit/Documents/Masters/Apps/Mars/20220221 Graduate Data Science Case Study - Cohort 3/20220221_Graduate_Data_Scientist_UK_Case_Study_1.csv\")"
   ]
  },
  {
   "cell_type": "markdown",
   "metadata": {},
   "source": [
    "# 1. Data Exploration"
   ]
  },
  {
   "cell_type": "code",
   "execution_count": 3,
   "metadata": {},
   "outputs": [
    {
     "data": {
      "text/html": [
       "<div>\n",
       "<style scoped>\n",
       "    .dataframe tbody tr th:only-of-type {\n",
       "        vertical-align: middle;\n",
       "    }\n",
       "\n",
       "    .dataframe tbody tr th {\n",
       "        vertical-align: top;\n",
       "    }\n",
       "\n",
       "    .dataframe thead th {\n",
       "        text-align: right;\n",
       "    }\n",
       "</style>\n",
       "<table border=\"1\" class=\"dataframe\">\n",
       "  <thead>\n",
       "    <tr style=\"text-align: right;\">\n",
       "      <th></th>\n",
       "      <th>PetID</th>\n",
       "      <th>RescuerID</th>\n",
       "      <th>Type</th>\n",
       "      <th>Name</th>\n",
       "      <th>Age</th>\n",
       "      <th>BreedName1</th>\n",
       "      <th>BreedName2</th>\n",
       "      <th>Gender</th>\n",
       "      <th>ColorName1</th>\n",
       "      <th>ColorName2</th>\n",
       "      <th>...</th>\n",
       "      <th>Dewormed</th>\n",
       "      <th>Sterilized</th>\n",
       "      <th>Health</th>\n",
       "      <th>Quantity</th>\n",
       "      <th>Fee</th>\n",
       "      <th>StateName</th>\n",
       "      <th>VideoAmt</th>\n",
       "      <th>PhotoAmt</th>\n",
       "      <th>Description</th>\n",
       "      <th>AdoptionSpeed</th>\n",
       "    </tr>\n",
       "  </thead>\n",
       "  <tbody>\n",
       "    <tr>\n",
       "      <th>0</th>\n",
       "      <td>86e1089a3</td>\n",
       "      <td>8480853f516546f6cf33aa88cd76c379</td>\n",
       "      <td>Cat</td>\n",
       "      <td>Nibble</td>\n",
       "      <td>3</td>\n",
       "      <td>Tabby</td>\n",
       "      <td>NaN</td>\n",
       "      <td>Male</td>\n",
       "      <td>Black</td>\n",
       "      <td>White</td>\n",
       "      <td>...</td>\n",
       "      <td>2</td>\n",
       "      <td>2</td>\n",
       "      <td>1</td>\n",
       "      <td>1</td>\n",
       "      <td>100</td>\n",
       "      <td>Selangor</td>\n",
       "      <td>0</td>\n",
       "      <td>1</td>\n",
       "      <td>Nibble is a 3+ month old ball of cuteness. He ...</td>\n",
       "      <td>2</td>\n",
       "    </tr>\n",
       "    <tr>\n",
       "      <th>1</th>\n",
       "      <td>6296e909a</td>\n",
       "      <td>3082c7125d8fb66f7dd4bff4192c8b14</td>\n",
       "      <td>Cat</td>\n",
       "      <td>No Name Yet</td>\n",
       "      <td>1</td>\n",
       "      <td>Domestic Medium Hair</td>\n",
       "      <td>NaN</td>\n",
       "      <td>Male</td>\n",
       "      <td>Black</td>\n",
       "      <td>Brown</td>\n",
       "      <td>...</td>\n",
       "      <td>3</td>\n",
       "      <td>3</td>\n",
       "      <td>1</td>\n",
       "      <td>1</td>\n",
       "      <td>0</td>\n",
       "      <td>Kuala Lumpur</td>\n",
       "      <td>0</td>\n",
       "      <td>2</td>\n",
       "      <td>I just found it alone yesterday near my apartm...</td>\n",
       "      <td>0</td>\n",
       "    </tr>\n",
       "    <tr>\n",
       "      <th>2</th>\n",
       "      <td>3422e4906</td>\n",
       "      <td>fa90fa5b1ee11c86938398b60abc32cb</td>\n",
       "      <td>Dog</td>\n",
       "      <td>Brisco</td>\n",
       "      <td>1</td>\n",
       "      <td>Mixed Breed</td>\n",
       "      <td>NaN</td>\n",
       "      <td>Male</td>\n",
       "      <td>Brown</td>\n",
       "      <td>White</td>\n",
       "      <td>...</td>\n",
       "      <td>1</td>\n",
       "      <td>2</td>\n",
       "      <td>1</td>\n",
       "      <td>1</td>\n",
       "      <td>0</td>\n",
       "      <td>Selangor</td>\n",
       "      <td>0</td>\n",
       "      <td>7</td>\n",
       "      <td>Their pregnant mother was dumped by her irresp...</td>\n",
       "      <td>3</td>\n",
       "    </tr>\n",
       "    <tr>\n",
       "      <th>3</th>\n",
       "      <td>5842f1ff5</td>\n",
       "      <td>9238e4f44c71a75282e62f7136c6b240</td>\n",
       "      <td>Dog</td>\n",
       "      <td>Miko</td>\n",
       "      <td>4</td>\n",
       "      <td>Mixed Breed</td>\n",
       "      <td>NaN</td>\n",
       "      <td>Female</td>\n",
       "      <td>Black</td>\n",
       "      <td>Brown</td>\n",
       "      <td>...</td>\n",
       "      <td>1</td>\n",
       "      <td>2</td>\n",
       "      <td>1</td>\n",
       "      <td>1</td>\n",
       "      <td>150</td>\n",
       "      <td>Kuala Lumpur</td>\n",
       "      <td>0</td>\n",
       "      <td>8</td>\n",
       "      <td>Good guard dog, very alert, active, obedience ...</td>\n",
       "      <td>2</td>\n",
       "    </tr>\n",
       "    <tr>\n",
       "      <th>4</th>\n",
       "      <td>850a43f90</td>\n",
       "      <td>95481e953f8aed9ec3d16fc4509537e8</td>\n",
       "      <td>Dog</td>\n",
       "      <td>Hunter</td>\n",
       "      <td>1</td>\n",
       "      <td>Mixed Breed</td>\n",
       "      <td>NaN</td>\n",
       "      <td>Male</td>\n",
       "      <td>Black</td>\n",
       "      <td>NaN</td>\n",
       "      <td>...</td>\n",
       "      <td>2</td>\n",
       "      <td>2</td>\n",
       "      <td>1</td>\n",
       "      <td>1</td>\n",
       "      <td>0</td>\n",
       "      <td>Selangor</td>\n",
       "      <td>0</td>\n",
       "      <td>3</td>\n",
       "      <td>This handsome yet cute boy is up for adoption....</td>\n",
       "      <td>2</td>\n",
       "    </tr>\n",
       "  </tbody>\n",
       "</table>\n",
       "<p>5 rows × 24 columns</p>\n",
       "</div>"
      ],
      "text/plain": [
       "       PetID                         RescuerID Type         Name  Age  \\\n",
       "0  86e1089a3  8480853f516546f6cf33aa88cd76c379  Cat       Nibble    3   \n",
       "1  6296e909a  3082c7125d8fb66f7dd4bff4192c8b14  Cat  No Name Yet    1   \n",
       "2  3422e4906  fa90fa5b1ee11c86938398b60abc32cb  Dog       Brisco    1   \n",
       "3  5842f1ff5  9238e4f44c71a75282e62f7136c6b240  Dog         Miko    4   \n",
       "4  850a43f90  95481e953f8aed9ec3d16fc4509537e8  Dog       Hunter    1   \n",
       "\n",
       "             BreedName1 BreedName2  Gender ColorName1 ColorName2  ...  \\\n",
       "0                 Tabby        NaN    Male      Black      White  ...   \n",
       "1  Domestic Medium Hair        NaN    Male      Black      Brown  ...   \n",
       "2           Mixed Breed        NaN    Male      Brown      White  ...   \n",
       "3           Mixed Breed        NaN  Female      Black      Brown  ...   \n",
       "4           Mixed Breed        NaN    Male      Black        NaN  ...   \n",
       "\n",
       "  Dewormed  Sterilized  Health  Quantity  Fee     StateName  VideoAmt  \\\n",
       "0        2           2       1         1  100      Selangor         0   \n",
       "1        3           3       1         1    0  Kuala Lumpur         0   \n",
       "2        1           2       1         1    0      Selangor         0   \n",
       "3        1           2       1         1  150  Kuala Lumpur         0   \n",
       "4        2           2       1         1    0      Selangor         0   \n",
       "\n",
       "   PhotoAmt                                        Description AdoptionSpeed  \n",
       "0         1  Nibble is a 3+ month old ball of cuteness. He ...             2  \n",
       "1         2  I just found it alone yesterday near my apartm...             0  \n",
       "2         7  Their pregnant mother was dumped by her irresp...             3  \n",
       "3         8  Good guard dog, very alert, active, obedience ...             2  \n",
       "4         3  This handsome yet cute boy is up for adoption....             2  \n",
       "\n",
       "[5 rows x 24 columns]"
      ]
     },
     "execution_count": 3,
     "metadata": {},
     "output_type": "execute_result"
    }
   ],
   "source": [
    "#Exploring the first 5 rows of the data\n",
    "data.head()"
   ]
  },
  {
   "cell_type": "code",
   "execution_count": 4,
   "metadata": {},
   "outputs": [
    {
     "data": {
      "text/plain": [
       "Index(['PetID', 'RescuerID', 'Type', 'Name', 'Age', 'BreedName1', 'BreedName2',\n",
       "       'Gender', 'ColorName1', 'ColorName2', 'ColorName3', 'MaturitySize',\n",
       "       'FurLength', 'Vaccinated', 'Dewormed', 'Sterilized', 'Health',\n",
       "       'Quantity', 'Fee', 'StateName', 'VideoAmt', 'PhotoAmt', 'Description',\n",
       "       'AdoptionSpeed'],\n",
       "      dtype='object')"
      ]
     },
     "execution_count": 4,
     "metadata": {},
     "output_type": "execute_result"
    }
   ],
   "source": [
    "#Displaying the columns in the original data\n",
    "data.columns"
   ]
  },
  {
   "cell_type": "code",
   "execution_count": 5,
   "metadata": {},
   "outputs": [
    {
     "data": {
      "text/html": [
       "<div>\n",
       "<style scoped>\n",
       "    .dataframe tbody tr th:only-of-type {\n",
       "        vertical-align: middle;\n",
       "    }\n",
       "\n",
       "    .dataframe tbody tr th {\n",
       "        vertical-align: top;\n",
       "    }\n",
       "\n",
       "    .dataframe thead th {\n",
       "        text-align: right;\n",
       "    }\n",
       "</style>\n",
       "<table border=\"1\" class=\"dataframe\">\n",
       "  <thead>\n",
       "    <tr style=\"text-align: right;\">\n",
       "      <th></th>\n",
       "      <th>Age</th>\n",
       "      <th>MaturitySize</th>\n",
       "      <th>FurLength</th>\n",
       "      <th>Vaccinated</th>\n",
       "      <th>Dewormed</th>\n",
       "      <th>Sterilized</th>\n",
       "      <th>Health</th>\n",
       "      <th>Quantity</th>\n",
       "      <th>Fee</th>\n",
       "      <th>VideoAmt</th>\n",
       "      <th>PhotoAmt</th>\n",
       "      <th>AdoptionSpeed</th>\n",
       "    </tr>\n",
       "  </thead>\n",
       "  <tbody>\n",
       "    <tr>\n",
       "      <th>count</th>\n",
       "      <td>14993.000000</td>\n",
       "      <td>14993.000000</td>\n",
       "      <td>14993.000000</td>\n",
       "      <td>14993.000000</td>\n",
       "      <td>14993.000000</td>\n",
       "      <td>14993.000000</td>\n",
       "      <td>14993.000000</td>\n",
       "      <td>14993.000000</td>\n",
       "      <td>14993.000000</td>\n",
       "      <td>14993.000000</td>\n",
       "      <td>14993.000000</td>\n",
       "      <td>14993.000000</td>\n",
       "    </tr>\n",
       "    <tr>\n",
       "      <th>mean</th>\n",
       "      <td>10.452078</td>\n",
       "      <td>1.862002</td>\n",
       "      <td>1.467485</td>\n",
       "      <td>1.731208</td>\n",
       "      <td>1.558727</td>\n",
       "      <td>1.914227</td>\n",
       "      <td>1.036617</td>\n",
       "      <td>1.576069</td>\n",
       "      <td>21.259988</td>\n",
       "      <td>0.056760</td>\n",
       "      <td>3.889215</td>\n",
       "      <td>2.516441</td>\n",
       "    </tr>\n",
       "    <tr>\n",
       "      <th>std</th>\n",
       "      <td>18.155790</td>\n",
       "      <td>0.547959</td>\n",
       "      <td>0.599070</td>\n",
       "      <td>0.667649</td>\n",
       "      <td>0.695817</td>\n",
       "      <td>0.566172</td>\n",
       "      <td>0.199535</td>\n",
       "      <td>1.472477</td>\n",
       "      <td>78.414548</td>\n",
       "      <td>0.346185</td>\n",
       "      <td>3.487810</td>\n",
       "      <td>1.177265</td>\n",
       "    </tr>\n",
       "    <tr>\n",
       "      <th>min</th>\n",
       "      <td>0.000000</td>\n",
       "      <td>1.000000</td>\n",
       "      <td>1.000000</td>\n",
       "      <td>1.000000</td>\n",
       "      <td>1.000000</td>\n",
       "      <td>1.000000</td>\n",
       "      <td>1.000000</td>\n",
       "      <td>1.000000</td>\n",
       "      <td>0.000000</td>\n",
       "      <td>0.000000</td>\n",
       "      <td>0.000000</td>\n",
       "      <td>0.000000</td>\n",
       "    </tr>\n",
       "    <tr>\n",
       "      <th>25%</th>\n",
       "      <td>2.000000</td>\n",
       "      <td>2.000000</td>\n",
       "      <td>1.000000</td>\n",
       "      <td>1.000000</td>\n",
       "      <td>1.000000</td>\n",
       "      <td>2.000000</td>\n",
       "      <td>1.000000</td>\n",
       "      <td>1.000000</td>\n",
       "      <td>0.000000</td>\n",
       "      <td>0.000000</td>\n",
       "      <td>2.000000</td>\n",
       "      <td>2.000000</td>\n",
       "    </tr>\n",
       "    <tr>\n",
       "      <th>50%</th>\n",
       "      <td>3.000000</td>\n",
       "      <td>2.000000</td>\n",
       "      <td>1.000000</td>\n",
       "      <td>2.000000</td>\n",
       "      <td>1.000000</td>\n",
       "      <td>2.000000</td>\n",
       "      <td>1.000000</td>\n",
       "      <td>1.000000</td>\n",
       "      <td>0.000000</td>\n",
       "      <td>0.000000</td>\n",
       "      <td>3.000000</td>\n",
       "      <td>2.000000</td>\n",
       "    </tr>\n",
       "    <tr>\n",
       "      <th>75%</th>\n",
       "      <td>12.000000</td>\n",
       "      <td>2.000000</td>\n",
       "      <td>2.000000</td>\n",
       "      <td>2.000000</td>\n",
       "      <td>2.000000</td>\n",
       "      <td>2.000000</td>\n",
       "      <td>1.000000</td>\n",
       "      <td>1.000000</td>\n",
       "      <td>0.000000</td>\n",
       "      <td>0.000000</td>\n",
       "      <td>5.000000</td>\n",
       "      <td>4.000000</td>\n",
       "    </tr>\n",
       "    <tr>\n",
       "      <th>max</th>\n",
       "      <td>255.000000</td>\n",
       "      <td>4.000000</td>\n",
       "      <td>3.000000</td>\n",
       "      <td>3.000000</td>\n",
       "      <td>3.000000</td>\n",
       "      <td>3.000000</td>\n",
       "      <td>3.000000</td>\n",
       "      <td>20.000000</td>\n",
       "      <td>3000.000000</td>\n",
       "      <td>8.000000</td>\n",
       "      <td>30.000000</td>\n",
       "      <td>4.000000</td>\n",
       "    </tr>\n",
       "  </tbody>\n",
       "</table>\n",
       "</div>"
      ],
      "text/plain": [
       "                Age  MaturitySize     FurLength    Vaccinated      Dewormed  \\\n",
       "count  14993.000000  14993.000000  14993.000000  14993.000000  14993.000000   \n",
       "mean      10.452078      1.862002      1.467485      1.731208      1.558727   \n",
       "std       18.155790      0.547959      0.599070      0.667649      0.695817   \n",
       "min        0.000000      1.000000      1.000000      1.000000      1.000000   \n",
       "25%        2.000000      2.000000      1.000000      1.000000      1.000000   \n",
       "50%        3.000000      2.000000      1.000000      2.000000      1.000000   \n",
       "75%       12.000000      2.000000      2.000000      2.000000      2.000000   \n",
       "max      255.000000      4.000000      3.000000      3.000000      3.000000   \n",
       "\n",
       "         Sterilized        Health      Quantity           Fee      VideoAmt  \\\n",
       "count  14993.000000  14993.000000  14993.000000  14993.000000  14993.000000   \n",
       "mean       1.914227      1.036617      1.576069     21.259988      0.056760   \n",
       "std        0.566172      0.199535      1.472477     78.414548      0.346185   \n",
       "min        1.000000      1.000000      1.000000      0.000000      0.000000   \n",
       "25%        2.000000      1.000000      1.000000      0.000000      0.000000   \n",
       "50%        2.000000      1.000000      1.000000      0.000000      0.000000   \n",
       "75%        2.000000      1.000000      1.000000      0.000000      0.000000   \n",
       "max        3.000000      3.000000     20.000000   3000.000000      8.000000   \n",
       "\n",
       "           PhotoAmt  AdoptionSpeed  \n",
       "count  14993.000000   14993.000000  \n",
       "mean       3.889215       2.516441  \n",
       "std        3.487810       1.177265  \n",
       "min        0.000000       0.000000  \n",
       "25%        2.000000       2.000000  \n",
       "50%        3.000000       2.000000  \n",
       "75%        5.000000       4.000000  \n",
       "max       30.000000       4.000000  "
      ]
     },
     "execution_count": 5,
     "metadata": {},
     "output_type": "execute_result"
    }
   ],
   "source": [
    "data.describe()\n",
    "#There are 14,933 observations and 24 columns (features) in the data"
   ]
  },
  {
   "cell_type": "markdown",
   "metadata": {},
   "source": [
    "### **Describing the Data**"
   ]
  },
  {
   "cell_type": "code",
   "execution_count": 6,
   "metadata": {},
   "outputs": [
    {
     "data": {
      "text/html": [
       "<div>\n",
       "<style scoped>\n",
       "    .dataframe tbody tr th:only-of-type {\n",
       "        vertical-align: middle;\n",
       "    }\n",
       "\n",
       "    .dataframe tbody tr th {\n",
       "        vertical-align: top;\n",
       "    }\n",
       "\n",
       "    .dataframe thead th {\n",
       "        text-align: right;\n",
       "    }\n",
       "</style>\n",
       "<table border=\"1\" class=\"dataframe\">\n",
       "  <thead>\n",
       "    <tr style=\"text-align: right;\">\n",
       "      <th></th>\n",
       "      <th>Age</th>\n",
       "      <th>MaturitySize</th>\n",
       "      <th>FurLength</th>\n",
       "      <th>Vaccinated</th>\n",
       "      <th>Dewormed</th>\n",
       "      <th>Sterilized</th>\n",
       "      <th>Health</th>\n",
       "      <th>Quantity</th>\n",
       "      <th>Fee</th>\n",
       "      <th>VideoAmt</th>\n",
       "      <th>PhotoAmt</th>\n",
       "      <th>AdoptionSpeed</th>\n",
       "    </tr>\n",
       "  </thead>\n",
       "  <tbody>\n",
       "    <tr>\n",
       "      <th>count</th>\n",
       "      <td>14993.000000</td>\n",
       "      <td>14993.000000</td>\n",
       "      <td>14993.000000</td>\n",
       "      <td>14993.000000</td>\n",
       "      <td>14993.000000</td>\n",
       "      <td>14993.000000</td>\n",
       "      <td>14993.000000</td>\n",
       "      <td>14993.000000</td>\n",
       "      <td>14993.000000</td>\n",
       "      <td>14993.000000</td>\n",
       "      <td>14993.000000</td>\n",
       "      <td>14993.000000</td>\n",
       "    </tr>\n",
       "    <tr>\n",
       "      <th>mean</th>\n",
       "      <td>10.452078</td>\n",
       "      <td>1.862002</td>\n",
       "      <td>1.467485</td>\n",
       "      <td>1.731208</td>\n",
       "      <td>1.558727</td>\n",
       "      <td>1.914227</td>\n",
       "      <td>1.036617</td>\n",
       "      <td>1.576069</td>\n",
       "      <td>21.259988</td>\n",
       "      <td>0.056760</td>\n",
       "      <td>3.889215</td>\n",
       "      <td>2.516441</td>\n",
       "    </tr>\n",
       "    <tr>\n",
       "      <th>std</th>\n",
       "      <td>18.155790</td>\n",
       "      <td>0.547959</td>\n",
       "      <td>0.599070</td>\n",
       "      <td>0.667649</td>\n",
       "      <td>0.695817</td>\n",
       "      <td>0.566172</td>\n",
       "      <td>0.199535</td>\n",
       "      <td>1.472477</td>\n",
       "      <td>78.414548</td>\n",
       "      <td>0.346185</td>\n",
       "      <td>3.487810</td>\n",
       "      <td>1.177265</td>\n",
       "    </tr>\n",
       "    <tr>\n",
       "      <th>min</th>\n",
       "      <td>0.000000</td>\n",
       "      <td>1.000000</td>\n",
       "      <td>1.000000</td>\n",
       "      <td>1.000000</td>\n",
       "      <td>1.000000</td>\n",
       "      <td>1.000000</td>\n",
       "      <td>1.000000</td>\n",
       "      <td>1.000000</td>\n",
       "      <td>0.000000</td>\n",
       "      <td>0.000000</td>\n",
       "      <td>0.000000</td>\n",
       "      <td>0.000000</td>\n",
       "    </tr>\n",
       "    <tr>\n",
       "      <th>25%</th>\n",
       "      <td>2.000000</td>\n",
       "      <td>2.000000</td>\n",
       "      <td>1.000000</td>\n",
       "      <td>1.000000</td>\n",
       "      <td>1.000000</td>\n",
       "      <td>2.000000</td>\n",
       "      <td>1.000000</td>\n",
       "      <td>1.000000</td>\n",
       "      <td>0.000000</td>\n",
       "      <td>0.000000</td>\n",
       "      <td>2.000000</td>\n",
       "      <td>2.000000</td>\n",
       "    </tr>\n",
       "    <tr>\n",
       "      <th>50%</th>\n",
       "      <td>3.000000</td>\n",
       "      <td>2.000000</td>\n",
       "      <td>1.000000</td>\n",
       "      <td>2.000000</td>\n",
       "      <td>1.000000</td>\n",
       "      <td>2.000000</td>\n",
       "      <td>1.000000</td>\n",
       "      <td>1.000000</td>\n",
       "      <td>0.000000</td>\n",
       "      <td>0.000000</td>\n",
       "      <td>3.000000</td>\n",
       "      <td>2.000000</td>\n",
       "    </tr>\n",
       "    <tr>\n",
       "      <th>75%</th>\n",
       "      <td>12.000000</td>\n",
       "      <td>2.000000</td>\n",
       "      <td>2.000000</td>\n",
       "      <td>2.000000</td>\n",
       "      <td>2.000000</td>\n",
       "      <td>2.000000</td>\n",
       "      <td>1.000000</td>\n",
       "      <td>1.000000</td>\n",
       "      <td>0.000000</td>\n",
       "      <td>0.000000</td>\n",
       "      <td>5.000000</td>\n",
       "      <td>4.000000</td>\n",
       "    </tr>\n",
       "    <tr>\n",
       "      <th>max</th>\n",
       "      <td>255.000000</td>\n",
       "      <td>4.000000</td>\n",
       "      <td>3.000000</td>\n",
       "      <td>3.000000</td>\n",
       "      <td>3.000000</td>\n",
       "      <td>3.000000</td>\n",
       "      <td>3.000000</td>\n",
       "      <td>20.000000</td>\n",
       "      <td>3000.000000</td>\n",
       "      <td>8.000000</td>\n",
       "      <td>30.000000</td>\n",
       "      <td>4.000000</td>\n",
       "    </tr>\n",
       "  </tbody>\n",
       "</table>\n",
       "</div>"
      ],
      "text/plain": [
       "                Age  MaturitySize     FurLength    Vaccinated      Dewormed  \\\n",
       "count  14993.000000  14993.000000  14993.000000  14993.000000  14993.000000   \n",
       "mean      10.452078      1.862002      1.467485      1.731208      1.558727   \n",
       "std       18.155790      0.547959      0.599070      0.667649      0.695817   \n",
       "min        0.000000      1.000000      1.000000      1.000000      1.000000   \n",
       "25%        2.000000      2.000000      1.000000      1.000000      1.000000   \n",
       "50%        3.000000      2.000000      1.000000      2.000000      1.000000   \n",
       "75%       12.000000      2.000000      2.000000      2.000000      2.000000   \n",
       "max      255.000000      4.000000      3.000000      3.000000      3.000000   \n",
       "\n",
       "         Sterilized        Health      Quantity           Fee      VideoAmt  \\\n",
       "count  14993.000000  14993.000000  14993.000000  14993.000000  14993.000000   \n",
       "mean       1.914227      1.036617      1.576069     21.259988      0.056760   \n",
       "std        0.566172      0.199535      1.472477     78.414548      0.346185   \n",
       "min        1.000000      1.000000      1.000000      0.000000      0.000000   \n",
       "25%        2.000000      1.000000      1.000000      0.000000      0.000000   \n",
       "50%        2.000000      1.000000      1.000000      0.000000      0.000000   \n",
       "75%        2.000000      1.000000      1.000000      0.000000      0.000000   \n",
       "max        3.000000      3.000000     20.000000   3000.000000      8.000000   \n",
       "\n",
       "           PhotoAmt  AdoptionSpeed  \n",
       "count  14993.000000   14993.000000  \n",
       "mean       3.889215       2.516441  \n",
       "std        3.487810       1.177265  \n",
       "min        0.000000       0.000000  \n",
       "25%        2.000000       2.000000  \n",
       "50%        3.000000       2.000000  \n",
       "75%        5.000000       4.000000  \n",
       "max       30.000000       4.000000  "
      ]
     },
     "execution_count": 6,
     "metadata": {},
     "output_type": "execute_result"
    }
   ],
   "source": [
    "#A quick snapshot of a few features of the data\n",
    "data.describe()\n",
    "#We see some strange outliers, like max Age of 255, given that there are only Cats and Dogs in the data"
   ]
  },
  {
   "cell_type": "markdown",
   "metadata": {},
   "source": [
    "### **Investigating Missing Data**"
   ]
  },
  {
   "cell_type": "code",
   "execution_count": 7,
   "metadata": {},
   "outputs": [
    {
     "name": "stdout",
     "output_type": "stream",
     "text": [
      "Number of missing values in each column before cleaning:\n",
      "PetID                0\n",
      "RescuerID            0\n",
      "Type                 0\n",
      "Name              1257\n",
      "Age                  0\n",
      "BreedName1           5\n",
      "BreedName2       10762\n",
      "Gender               0\n",
      "ColorName1           0\n",
      "ColorName2        4471\n",
      "ColorName3       10604\n",
      "MaturitySize         0\n",
      "FurLength            0\n",
      "Vaccinated           0\n",
      "Dewormed             0\n",
      "Sterilized           0\n",
      "Health               0\n",
      "Quantity             0\n",
      "Fee                  0\n",
      "StateName            0\n",
      "VideoAmt             0\n",
      "PhotoAmt             0\n",
      "Description         12\n",
      "AdoptionSpeed        0\n",
      "dtype: int64\n",
      "\n",
      "\n",
      "Proportion of missing values in the data before cleaning: 7.53% (2dp)\n"
     ]
    }
   ],
   "source": [
    "# Missing data can often invalidate our analysis or make it more difficult, so\n",
    "#it is important to know how significant its presence in the data is\n",
    "\n",
    "print(\"Number of missing values in each column before cleaning:\")\n",
    "print(data.isnull().sum()) #Shows the total number of missing values in each column\n",
    "print(\"\\n\")\n",
    "\n",
    "missing_values = sum(data.isnull().sum())\n",
    "total_values = np.product(data.shape)\n",
    "missing_proportion = (missing_values/total_values) * 100\n",
    "print(\"Proportion of missing values in the data before cleaning: \" + \n",
    "      \"{:.2f}\".format(missing_proportion) + \"% (2dp)\")\n",
    "\n",
    "# Before cleaning the data, the number of missing values as a proportion of \n",
    "#the whole dataset is only 7.53%, so in theory we don't need to worry about\n",
    "#this too much - however, we should still look to deal with these where we can"
   ]
  },
  {
   "cell_type": "markdown",
   "metadata": {},
   "source": [
    "### **Investigating Outliers**"
   ]
  },
  {
   "cell_type": "markdown",
   "metadata": {},
   "source": [
    "From the data description above, we observed the presence of outliers mainly in the \"Age\" column, where the max age is 255. This doesn't seem to make sense when the dataset only consists in Cats and Dogs."
   ]
  },
  {
   "cell_type": "code",
   "execution_count": 8,
   "metadata": {},
   "outputs": [
    {
     "name": "stdout",
     "output_type": "stream",
     "text": [
      "Types of animals in the data: \n",
      "Cat\n",
      "Dog\n"
     ]
    }
   ],
   "source": [
    "print(\"Types of animals in the data: \")\n",
    "for animal_type in data['Type'].unique():\n",
    "    print(animal_type)"
   ]
  },
  {
   "cell_type": "code",
   "execution_count": 9,
   "metadata": {},
   "outputs": [
    {
     "data": {
      "image/png": "[encoded data removed]",
      "text/plain": [
       "<Figure size 864x504 with 1 Axes>"
      ]
     },
     "metadata": {
      "needs_background": "light"
     },
     "output_type": "display_data"
    }
   ],
   "source": [
    "# Histogram displaying the distribution of ages in the data \n",
    "#prior to removing outliers\n",
    "plt.figure(figsize=(12,7))\n",
    "plt.title(\"Age Distribution Before Removing Outliers\")\n",
    "sns.distplot(a=data['Age'])\n",
    "plt.show()"
   ]
  },
  {
   "cell_type": "code",
   "execution_count": 10,
   "metadata": {},
   "outputs": [
    {
     "name": "stdout",
     "output_type": "stream",
     "text": [
      "Number of outliers in the data: 1411\n",
      "Proportion of observations with outliers in the data: 9.41% (2dp)\n"
     ]
    }
   ],
   "source": [
    "#Dealing with 'Age' outliers#\n",
    "# The presence of outliers in the Age category are likely to interfere with our analysis later on\n",
    "\n",
    "# According to the RSPCA, Dogs live for 13 years on average\n",
    "#https://www.rspca.org.uk/adviceandwelfare/pets/dogs/health/seniordogs/lifespan\n",
    "\n",
    "# According to Cats Protection, Cats live for 14 years on average \n",
    "#https://www.cats.org.uk/cats-blog/how-long-do-pet-cats-live\n",
    "\n",
    "# Given that the average lifespan of each type of pet is around 15 years, let us suppose\n",
    "#the upper age bound to be 30 years (i.e. 15 years either side of the mean of 15 years)\n",
    "\n",
    "total_outliers = data[data['Age']>30].shape[0]\n",
    "print(\"Number of outliers in the data: \" + str(total_outliers))\n",
    "\n",
    "outlier_proportion = (total_outliers/data.shape[0]) * 100\n",
    "print(\"Proportion of observations with outliers in the data: \" + \"{:.2f}\".format(outlier_proportion) + \"% (2dp)\")\n",
    "# ~10% of the data is a significant chunk - therefore, unfortunately, I must drop these \n",
    "#observations so as to avoid jeopardising the validity of the analysis later on. \n",
    "#However, even after we drop these 1411 observations, we are still left with 13582 \n",
    "#observations, which is a healthy sample size."
   ]
  },
  {
   "cell_type": "code",
   "execution_count": 11,
   "metadata": {},
   "outputs": [],
   "source": [
    "#Dropping outliers\n",
    "data = data.loc[data[\"Age\"] <= 30]\n",
    "# Subsets the data where Age <= 30\n",
    "\n",
    "#Dropping observations with \"Not Sure\" in the 'Vaccinated', 'Dewormed', and 'Sterilized' columns\n",
    "data.drop(data[data['Vaccinated'] == 3].index, inplace=True)\n",
    "data.drop(data[data['Dewormed'] == 3].index, inplace=True)\n",
    "data.drop(data[data['Sterilized'] == 3].index, inplace=True)\n",
    "\n",
    "data = data.reindex()\n",
    "len(data)\n",
    "\n",
    "#Re-indexing the dataframe after dropping observations\n",
    "data = data.reindex()"
   ]
  },
  {
   "cell_type": "code",
   "execution_count": 12,
   "metadata": {},
   "outputs": [
    {
     "data": {
      "image/png": "[encoded data removed]",
      "text/plain": [
       "<Figure size 864x504 with 1 Axes>"
      ]
     },
     "metadata": {
      "needs_background": "light"
     },
     "output_type": "display_data"
    }
   ],
   "source": [
    "# Histogram displaying the distribution of ages in the data \n",
    "#after removing outliers\n",
    "plt.figure(figsize=(12,7))\n",
    "plt.title(\"Age Distribution After Removing Outliers\")\n",
    "sns.distplot(a=data['Age'])\n",
    "plt.show()"
   ]
  },
  {
   "cell_type": "markdown",
   "metadata": {},
   "source": [
    "### **Feature Addition/Manipulation**"
   ]
  },
  {
   "cell_type": "markdown",
   "metadata": {},
   "source": [
    "***New 'Named?' Variable***"
   ]
  },
  {
   "cell_type": "code",
   "execution_count": 13,
   "metadata": {},
   "outputs": [],
   "source": [
    "#Creates a new categorical column \"Named?\"#\n",
    "# Allows us to use this as an input in our analysis later on\n",
    "\n",
    "#Dealing with missing values in \"Name\" column\n",
    "data['Name'] = data[['Name']].fillna(\"No Name Yet\")\n",
    "\n",
    "#True if pet has a name, False if not\n",
    "data['Named?'] = np.where(data['Name'] != \"No Name Yet\", True, False)"
   ]
  },
  {
   "cell_type": "markdown",
   "metadata": {},
   "source": [
    "***New 'AdoptionSpeed_Dummy' Variable***"
   ]
  },
  {
   "cell_type": "code",
   "execution_count": 14,
   "metadata": {},
   "outputs": [],
   "source": [
    "#Creates a new (binary) categorical column \"AdoptionSpeed_Dummy\"#\n",
    "# Allows for binary classification later on\n",
    "\n",
    "#1 if pet was adopted within 1 month, 0 if not\n",
    "data['AdoptionSpeed_Dummy'] = np.where(data['AdoptionSpeed'] <=2, 1, 0)"
   ]
  },
  {
   "cell_type": "markdown",
   "metadata": {},
   "source": [
    "***New 'DescriptionCount' Variable***"
   ]
  },
  {
   "cell_type": "code",
   "execution_count": 15,
   "metadata": {},
   "outputs": [],
   "source": [
    "#Creating DescriptionCount Column#\n",
    "# Here I create a column representing the length of the Descriptions provided (no. of words) \n",
    "#for use in analysis later as the description is likely to have an impact on adoption\n",
    "\n",
    "#Dealing with missing values - Fill with \"N/A\"\n",
    "data['Description'] = data[['Description']].fillna(\"N/A\")\n",
    "\n",
    "#Appending all description lengths to a list\n",
    "description_lengths = []\n",
    "for i in range(len(data)):\n",
    "    description_lengths.append(len(data.iloc[i]['Description'].split()))\n",
    "    \n",
    "#Adding the list as a new column\n",
    "data['DescriptionCount'] = description_lengths\n",
    "\n",
    "# Making sure that those with missing values have DescriptionCount of 0, instead of 1\n",
    "#Last term just maintains current value of the column if \"Description\" is not \"N/A\"\n",
    "data['DescriptionCount'] = np.where(data['Description'] == \"N/A\", 0, data['DescriptionCount'])"
   ]
  },
  {
   "cell_type": "markdown",
   "metadata": {},
   "source": [
    "***New 'Gender_Dummy' Variable***"
   ]
  },
  {
   "cell_type": "code",
   "execution_count": 16,
   "metadata": {},
   "outputs": [],
   "source": [
    "#Creating Gender_Dummy Column#\n",
    "# Allows us to use this as an input in our analysis later on\n",
    "#1 if Female, 0 if Male\n",
    "\n",
    "data['Gender_Dummy'] = np.where(data['Gender'] == \"Female\", 1, 0)"
   ]
  },
  {
   "cell_type": "markdown",
   "metadata": {},
   "source": [
    "***New 'Type_Dummy' Variable***"
   ]
  },
  {
   "cell_type": "code",
   "execution_count": 17,
   "metadata": {},
   "outputs": [],
   "source": [
    "#Creating Type_Dummy Column#\n",
    "# Allows us to use this as an input in our analysis later on\n",
    "#1 if Dog, 0 if Cat\n",
    "\n",
    "data['Type_Dummy'] = np.where(data['Type'] == \"Dog\", 1, 0)"
   ]
  },
  {
   "cell_type": "markdown",
   "metadata": {},
   "source": [
    "***Re-formulating 'Health' Variable (Creating Health_Dummy)***"
   ]
  },
  {
   "cell_type": "code",
   "execution_count": 18,
   "metadata": {},
   "outputs": [
    {
     "name": "stdout",
     "output_type": "stream",
     "text": [
      "No. Not Specified: 0\n",
      "No. Healthy: 10997\n",
      "No. Minor Injury: 257\n",
      "No. Serious Injury: 14\n",
      " \n",
      "No. Healthy: 10997\n",
      "No. Not Healthy: 271\n"
     ]
    }
   ],
   "source": [
    "# I do this in order to recode the categories for use in our analysis later\n",
    "\n",
    "# Currently 1 = Healthy, 2 = Minor injury, 3 = Serious injury, 0 = Not specified\n",
    "# Change to 1 = Healthy, 0 = Not Healthy (Minor or Serious Injury) - ignores \"Not Specified\" as there are none \n",
    "#in the dataset set (see below)\n",
    "print(\"No. Not Specified: \" + str(len(data[data['Health'] == 0])))\n",
    "print(\"No. Healthy: \" + str(len(data[data['Health'] == 1])))\n",
    "print(\"No. Minor Injury: \" + str(len(data[data['Health'] == 2])))\n",
    "print(\"No. Serious Injury: \" + str(len(data[data['Health'] == 3])))\n",
    "\n",
    "data['Health_Dummy'] = np.where(data['Health'] == 3, 0, data['Health'])\n",
    "data['Health_Dummy'] = np.where(data['Health'] == 2, 0, data['Health_Dummy'])\n",
    "\n",
    "#Checking that there has been no change in the number in each category\n",
    "print(\" \")\n",
    "print(\"No. Healthy: \" + str(len(data[data['Health_Dummy']== 1])))\n",
    "print(\"No. Not Healthy: \" + str(len(data[data['Health_Dummy']== 0])))"
   ]
  },
  {
   "cell_type": "code",
   "execution_count": 19,
   "metadata": {},
   "outputs": [
    {
     "name": "stdout",
     "output_type": "stream",
     "text": [
      "Empty DataFrame\n",
      "Columns: [Health, Health_Dummy]\n",
      "Index: []\n",
      "Empty DataFrame\n",
      "Columns: [Health, Health_Dummy]\n",
      "Index: []\n",
      "Empty DataFrame\n",
      "Columns: [Health, Health_Dummy]\n",
      "Index: []\n"
     ]
    }
   ],
   "source": [
    "print(data[['Health','Health_Dummy']][(data[\"Health\"]==1) & (data[\"Health_Dummy\"]!=1)])\n",
    "print(data[['Health','Health_Dummy']][(data[\"Health\"]==2) & (data[\"Health_Dummy\"]!=0)])\n",
    "print(data[['Health','Health_Dummy']][(data[\"Health\"]==3) & (data[\"Health_Dummy\"]!=0)])\n",
    "\n",
    "#Checking all changes have been correctly made"
   ]
  },
  {
   "cell_type": "markdown",
   "metadata": {},
   "source": [
    "***Re-formulating 'Vaccinated' Variable (Creating Vaccinated_Dummy)***"
   ]
  },
  {
   "cell_type": "code",
   "execution_count": 20,
   "metadata": {},
   "outputs": [
    {
     "name": "stdout",
     "output_type": "stream",
     "text": [
      "No. 'Not Sure': 0\n"
     ]
    }
   ],
   "source": [
    "# I do this in order to recode the categories in an ordinal fashion - \n",
    "#prospective pet parents are likely to prefer animals that are already vaccinated\n",
    "# Currently 1 = Yes, 2 = No, 3 = Not Sure\n",
    "# Change to 1 = Yes, 0 = No\n",
    "print(\"No. 'Not Sure': \" + str(len(data[data['Vaccinated'] == 3])))\n",
    "\n",
    "data['Vaccinated_Dummy'] = np.where(data['Vaccinated'] == 2, 0, data['Vaccinated'])"
   ]
  },
  {
   "cell_type": "code",
   "execution_count": 21,
   "metadata": {},
   "outputs": [
    {
     "name": "stdout",
     "output_type": "stream",
     "text": [
      "Empty DataFrame\n",
      "Columns: [Vaccinated, Vaccinated_Dummy]\n",
      "Index: []\n",
      "Empty DataFrame\n",
      "Columns: [Vaccinated, Vaccinated_Dummy]\n",
      "Index: []\n"
     ]
    }
   ],
   "source": [
    "print(data[['Vaccinated','Vaccinated_Dummy']][(data[\"Vaccinated\"]==1) & (data[\"Vaccinated_Dummy\"]!=1)])\n",
    "print(data[['Vaccinated','Vaccinated_Dummy']][(data[\"Vaccinated\"]==2) & (data[\"Vaccinated_Dummy\"]!=0)])\n",
    "\n",
    "#Checking all changes have been correctly made"
   ]
  },
  {
   "cell_type": "markdown",
   "metadata": {},
   "source": [
    "***Re-formulating 'Dewormed' Variable (Creating Dewormed_Dummy)***"
   ]
  },
  {
   "cell_type": "code",
   "execution_count": 22,
   "metadata": {},
   "outputs": [
    {
     "name": "stdout",
     "output_type": "stream",
     "text": [
      "No. 'Not Sure': 0\n"
     ]
    }
   ],
   "source": [
    "# I do this in order to recode the categories in an ordinal fashion - \n",
    "#prospective pet parents are likely to prefer animals that are already dewormed\n",
    "# Currently 1 = Yes, 2 = No, 3 = Not Sure\n",
    "# Change to 1 = Yes, 0 = Not Sure, -1 = No\n",
    "print(\"No. 'Not Sure': \" + str(len(data[data['Dewormed'] == 3])))\n",
    "\n",
    "\n",
    "data['Dewormed_Dummy'] = np.where(data['Dewormed'] == 2, 0, data['Dewormed'])"
   ]
  },
  {
   "cell_type": "code",
   "execution_count": 23,
   "metadata": {},
   "outputs": [
    {
     "name": "stdout",
     "output_type": "stream",
     "text": [
      "Empty DataFrame\n",
      "Columns: [Dewormed, Dewormed_Dummy]\n",
      "Index: []\n",
      "Empty DataFrame\n",
      "Columns: [Dewormed, Dewormed_Dummy]\n",
      "Index: []\n"
     ]
    }
   ],
   "source": [
    "print(data[['Dewormed','Dewormed_Dummy']][(data[\"Dewormed\"]==1) & (data[\"Dewormed_Dummy\"]!=1)])\n",
    "print(data[['Dewormed','Dewormed_Dummy']][(data[\"Dewormed\"]==2) & (data[\"Dewormed_Dummy\"]!=0)])\n",
    "\n",
    "#Checking all changes have been correctly made"
   ]
  },
  {
   "cell_type": "markdown",
   "metadata": {},
   "source": [
    "***Re-formulating 'Sterilized' Variable (Creating Sterilized_Dummy)***"
   ]
  },
  {
   "cell_type": "code",
   "execution_count": 24,
   "metadata": {},
   "outputs": [
    {
     "name": "stdout",
     "output_type": "stream",
     "text": [
      "No. 'Not Sure': 0\n"
     ]
    }
   ],
   "source": [
    "# I do this in order to recode the categories in an ordinal fashion\n",
    "# Currently 1 = Yes, 2 = No, 3 = Not Sure\n",
    "# Change to 1 = Yes, 0 = Not Sure, -1 = No\n",
    "print(\"No. 'Not Sure': \" + str(len(data[data['Sterilized'] == 3])))\n",
    "\n",
    "\n",
    "data['Sterilized_Dummy'] = np.where(data['Sterilized'] == 2, 0, data['Sterilized'])"
   ]
  },
  {
   "cell_type": "code",
   "execution_count": 25,
   "metadata": {},
   "outputs": [
    {
     "name": "stdout",
     "output_type": "stream",
     "text": [
      "Empty DataFrame\n",
      "Columns: [Sterilized, Sterilized_Dummy]\n",
      "Index: []\n",
      "Empty DataFrame\n",
      "Columns: [Sterilized, Sterilized_Dummy]\n",
      "Index: []\n"
     ]
    }
   ],
   "source": [
    "print(data[['Sterilized','Sterilized_Dummy']][(data[\"Sterilized\"]==1) & (data[\"Sterilized_Dummy\"]!=1)])\n",
    "print(data[['Sterilized','Sterilized_Dummy']][(data[\"Sterilized\"]==2) & (data[\"Sterilized_Dummy\"]!=0)])\n",
    "\n",
    "#Checking all changes have been correctly made"
   ]
  },
  {
   "cell_type": "markdown",
   "metadata": {},
   "source": [
    "### Checking Final Data Form"
   ]
  },
  {
   "cell_type": "markdown",
   "metadata": {},
   "source": [
    "***Missing Values***"
   ]
  },
  {
   "cell_type": "code",
   "execution_count": 26,
   "metadata": {},
   "outputs": [
    {
     "name": "stdout",
     "output_type": "stream",
     "text": [
      "Number of missing values in each column after cleaning:\n",
      "PetID                     0\n",
      "RescuerID                 0\n",
      "Type                      0\n",
      "Name                      0\n",
      "Age                       0\n",
      "BreedName1                4\n",
      "BreedName2             8061\n",
      "Gender                    0\n",
      "ColorName1                0\n",
      "ColorName2             3229\n",
      "ColorName3             7882\n",
      "MaturitySize              0\n",
      "FurLength                 0\n",
      "Vaccinated                0\n",
      "Dewormed                  0\n",
      "Sterilized                0\n",
      "Health                    0\n",
      "Quantity                  0\n",
      "Fee                       0\n",
      "StateName                 0\n",
      "VideoAmt                  0\n",
      "PhotoAmt                  0\n",
      "Description               0\n",
      "AdoptionSpeed             0\n",
      "Named?                    0\n",
      "AdoptionSpeed_Dummy       0\n",
      "DescriptionCount          0\n",
      "Gender_Dummy              0\n",
      "Type_Dummy                0\n",
      "Health_Dummy              0\n",
      "Vaccinated_Dummy          0\n",
      "Dewormed_Dummy            0\n",
      "Sterilized_Dummy          0\n",
      "dtype: int64\n",
      "\n",
      "\n",
      "Proportion of missing values in the data after cleaning: 5.16% (2dp)\n"
     ]
    }
   ],
   "source": [
    "print(\"Number of missing values in each column after cleaning:\")\n",
    "print(data.isnull().sum())\n",
    "print(\"\\n\")\n",
    "\n",
    "missing_values = sum(data.isnull().sum())\n",
    "total_values = np.product(data.shape)\n",
    "missing_proportion = (missing_values/total_values) * 100\n",
    "print(\"Proportion of missing values in the data after cleaning: \" + \n",
    "      \"{:.2f}\".format(missing_proportion) + \"% (2dp)\")\n",
    "# After cleaning, the number of missing values as a proportion of \n",
    "#the whole dataset has gone down to 7.29% "
   ]
  },
  {
   "cell_type": "markdown",
   "metadata": {},
   "source": [
    "***Final Shape***"
   ]
  },
  {
   "cell_type": "code",
   "execution_count": 27,
   "metadata": {},
   "outputs": [
    {
     "data": {
      "text/plain": [
       "(11268, 33)"
      ]
     },
     "execution_count": 27,
     "metadata": {},
     "output_type": "execute_result"
    }
   ],
   "source": [
    "data.shape"
   ]
  },
  {
   "cell_type": "markdown",
   "metadata": {},
   "source": [
    "***Final Columns***"
   ]
  },
  {
   "cell_type": "code",
   "execution_count": 28,
   "metadata": {},
   "outputs": [
    {
     "data": {
      "text/plain": [
       "Index(['PetID', 'RescuerID', 'Type', 'Name', 'Age', 'BreedName1', 'BreedName2',\n",
       "       'Gender', 'ColorName1', 'ColorName2', 'ColorName3', 'MaturitySize',\n",
       "       'FurLength', 'Vaccinated', 'Dewormed', 'Sterilized', 'Health',\n",
       "       'Quantity', 'Fee', 'StateName', 'VideoAmt', 'PhotoAmt', 'Description',\n",
       "       'AdoptionSpeed', 'Named?', 'AdoptionSpeed_Dummy', 'DescriptionCount',\n",
       "       'Gender_Dummy', 'Type_Dummy', 'Health_Dummy', 'Vaccinated_Dummy',\n",
       "       'Dewormed_Dummy', 'Sterilized_Dummy'],\n",
       "      dtype='object')"
      ]
     },
     "execution_count": 28,
     "metadata": {},
     "output_type": "execute_result"
    }
   ],
   "source": [
    "data.columns"
   ]
  },
  {
   "cell_type": "code",
   "execution_count": 29,
   "metadata": {},
   "outputs": [
    {
     "data": {
      "text/html": [
       "<div>\n",
       "<style scoped>\n",
       "    .dataframe tbody tr th:only-of-type {\n",
       "        vertical-align: middle;\n",
       "    }\n",
       "\n",
       "    .dataframe tbody tr th {\n",
       "        vertical-align: top;\n",
       "    }\n",
       "\n",
       "    .dataframe thead th {\n",
       "        text-align: right;\n",
       "    }\n",
       "</style>\n",
       "<table border=\"1\" class=\"dataframe\">\n",
       "  <thead>\n",
       "    <tr style=\"text-align: right;\">\n",
       "      <th></th>\n",
       "      <th>Age</th>\n",
       "      <th>MaturitySize</th>\n",
       "      <th>FurLength</th>\n",
       "      <th>Vaccinated</th>\n",
       "      <th>Dewormed</th>\n",
       "      <th>Sterilized</th>\n",
       "      <th>Health</th>\n",
       "      <th>Quantity</th>\n",
       "      <th>Fee</th>\n",
       "      <th>VideoAmt</th>\n",
       "      <th>PhotoAmt</th>\n",
       "      <th>AdoptionSpeed</th>\n",
       "      <th>AdoptionSpeed_Dummy</th>\n",
       "      <th>DescriptionCount</th>\n",
       "      <th>Gender_Dummy</th>\n",
       "      <th>Type_Dummy</th>\n",
       "      <th>Health_Dummy</th>\n",
       "      <th>Vaccinated_Dummy</th>\n",
       "      <th>Dewormed_Dummy</th>\n",
       "      <th>Sterilized_Dummy</th>\n",
       "    </tr>\n",
       "  </thead>\n",
       "  <tbody>\n",
       "    <tr>\n",
       "      <th>count</th>\n",
       "      <td>11268.000000</td>\n",
       "      <td>11268.000000</td>\n",
       "      <td>11268.000000</td>\n",
       "      <td>11268.00000</td>\n",
       "      <td>11268.000000</td>\n",
       "      <td>11268.000000</td>\n",
       "      <td>11268.000000</td>\n",
       "      <td>11268.000000</td>\n",
       "      <td>11268.000000</td>\n",
       "      <td>11268.000000</td>\n",
       "      <td>11268.000000</td>\n",
       "      <td>11268.000000</td>\n",
       "      <td>11268.000000</td>\n",
       "      <td>11268.000000</td>\n",
       "      <td>11268.000000</td>\n",
       "      <td>11268.000000</td>\n",
       "      <td>11268.000000</td>\n",
       "      <td>11268.00000</td>\n",
       "      <td>11268.000000</td>\n",
       "      <td>11268.000000</td>\n",
       "    </tr>\n",
       "    <tr>\n",
       "      <th>mean</th>\n",
       "      <td>5.233227</td>\n",
       "      <td>1.848509</td>\n",
       "      <td>1.429446</td>\n",
       "      <td>1.59842</td>\n",
       "      <td>1.400426</td>\n",
       "      <td>1.806621</td>\n",
       "      <td>1.025293</td>\n",
       "      <td>1.598953</td>\n",
       "      <td>19.892794</td>\n",
       "      <td>0.064874</td>\n",
       "      <td>4.128417</td>\n",
       "      <td>2.463348</td>\n",
       "      <td>0.523252</td>\n",
       "      <td>62.609869</td>\n",
       "      <td>0.487487</td>\n",
       "      <td>0.501154</td>\n",
       "      <td>0.975950</td>\n",
       "      <td>0.40158</td>\n",
       "      <td>0.599574</td>\n",
       "      <td>0.193379</td>\n",
       "    </tr>\n",
       "    <tr>\n",
       "      <th>std</th>\n",
       "      <td>5.988533</td>\n",
       "      <td>0.519300</td>\n",
       "      <td>0.572506</td>\n",
       "      <td>0.49024</td>\n",
       "      <td>0.490006</td>\n",
       "      <td>0.394965</td>\n",
       "      <td>0.164744</td>\n",
       "      <td>1.438255</td>\n",
       "      <td>70.454194</td>\n",
       "      <td>0.372763</td>\n",
       "      <td>3.696472</td>\n",
       "      <td>1.157970</td>\n",
       "      <td>0.499481</td>\n",
       "      <td>69.364748</td>\n",
       "      <td>0.499866</td>\n",
       "      <td>0.500021</td>\n",
       "      <td>0.153212</td>\n",
       "      <td>0.49024</td>\n",
       "      <td>0.490006</td>\n",
       "      <td>0.394965</td>\n",
       "    </tr>\n",
       "    <tr>\n",
       "      <th>min</th>\n",
       "      <td>0.000000</td>\n",
       "      <td>1.000000</td>\n",
       "      <td>1.000000</td>\n",
       "      <td>1.00000</td>\n",
       "      <td>1.000000</td>\n",
       "      <td>1.000000</td>\n",
       "      <td>1.000000</td>\n",
       "      <td>1.000000</td>\n",
       "      <td>0.000000</td>\n",
       "      <td>0.000000</td>\n",
       "      <td>0.000000</td>\n",
       "      <td>0.000000</td>\n",
       "      <td>0.000000</td>\n",
       "      <td>0.000000</td>\n",
       "      <td>0.000000</td>\n",
       "      <td>0.000000</td>\n",
       "      <td>0.000000</td>\n",
       "      <td>0.00000</td>\n",
       "      <td>0.000000</td>\n",
       "      <td>0.000000</td>\n",
       "    </tr>\n",
       "    <tr>\n",
       "      <th>25%</th>\n",
       "      <td>2.000000</td>\n",
       "      <td>2.000000</td>\n",
       "      <td>1.000000</td>\n",
       "      <td>1.00000</td>\n",
       "      <td>1.000000</td>\n",
       "      <td>2.000000</td>\n",
       "      <td>1.000000</td>\n",
       "      <td>1.000000</td>\n",
       "      <td>0.000000</td>\n",
       "      <td>0.000000</td>\n",
       "      <td>2.000000</td>\n",
       "      <td>2.000000</td>\n",
       "      <td>0.000000</td>\n",
       "      <td>21.000000</td>\n",
       "      <td>0.000000</td>\n",
       "      <td>0.000000</td>\n",
       "      <td>1.000000</td>\n",
       "      <td>0.00000</td>\n",
       "      <td>0.000000</td>\n",
       "      <td>0.000000</td>\n",
       "    </tr>\n",
       "    <tr>\n",
       "      <th>50%</th>\n",
       "      <td>3.000000</td>\n",
       "      <td>2.000000</td>\n",
       "      <td>1.000000</td>\n",
       "      <td>2.00000</td>\n",
       "      <td>1.000000</td>\n",
       "      <td>2.000000</td>\n",
       "      <td>1.000000</td>\n",
       "      <td>1.000000</td>\n",
       "      <td>0.000000</td>\n",
       "      <td>0.000000</td>\n",
       "      <td>3.000000</td>\n",
       "      <td>2.000000</td>\n",
       "      <td>1.000000</td>\n",
       "      <td>44.000000</td>\n",
       "      <td>0.000000</td>\n",
       "      <td>1.000000</td>\n",
       "      <td>1.000000</td>\n",
       "      <td>0.00000</td>\n",
       "      <td>1.000000</td>\n",
       "      <td>0.000000</td>\n",
       "    </tr>\n",
       "    <tr>\n",
       "      <th>75%</th>\n",
       "      <td>6.000000</td>\n",
       "      <td>2.000000</td>\n",
       "      <td>2.000000</td>\n",
       "      <td>2.00000</td>\n",
       "      <td>2.000000</td>\n",
       "      <td>2.000000</td>\n",
       "      <td>1.000000</td>\n",
       "      <td>1.000000</td>\n",
       "      <td>0.000000</td>\n",
       "      <td>0.000000</td>\n",
       "      <td>5.000000</td>\n",
       "      <td>4.000000</td>\n",
       "      <td>1.000000</td>\n",
       "      <td>80.000000</td>\n",
       "      <td>1.000000</td>\n",
       "      <td>1.000000</td>\n",
       "      <td>1.000000</td>\n",
       "      <td>1.00000</td>\n",
       "      <td>1.000000</td>\n",
       "      <td>0.000000</td>\n",
       "    </tr>\n",
       "    <tr>\n",
       "      <th>max</th>\n",
       "      <td>30.000000</td>\n",
       "      <td>4.000000</td>\n",
       "      <td>3.000000</td>\n",
       "      <td>2.00000</td>\n",
       "      <td>2.000000</td>\n",
       "      <td>2.000000</td>\n",
       "      <td>3.000000</td>\n",
       "      <td>20.000000</td>\n",
       "      <td>1000.000000</td>\n",
       "      <td>8.000000</td>\n",
       "      <td>30.000000</td>\n",
       "      <td>4.000000</td>\n",
       "      <td>1.000000</td>\n",
       "      <td>1257.000000</td>\n",
       "      <td>1.000000</td>\n",
       "      <td>1.000000</td>\n",
       "      <td>1.000000</td>\n",
       "      <td>1.00000</td>\n",
       "      <td>1.000000</td>\n",
       "      <td>1.000000</td>\n",
       "    </tr>\n",
       "  </tbody>\n",
       "</table>\n",
       "</div>"
      ],
      "text/plain": [
       "                Age  MaturitySize     FurLength   Vaccinated      Dewormed  \\\n",
       "count  11268.000000  11268.000000  11268.000000  11268.00000  11268.000000   \n",
       "mean       5.233227      1.848509      1.429446      1.59842      1.400426   \n",
       "std        5.988533      0.519300      0.572506      0.49024      0.490006   \n",
       "min        0.000000      1.000000      1.000000      1.00000      1.000000   \n",
       "25%        2.000000      2.000000      1.000000      1.00000      1.000000   \n",
       "50%        3.000000      2.000000      1.000000      2.00000      1.000000   \n",
       "75%        6.000000      2.000000      2.000000      2.00000      2.000000   \n",
       "max       30.000000      4.000000      3.000000      2.00000      2.000000   \n",
       "\n",
       "         Sterilized        Health      Quantity           Fee      VideoAmt  \\\n",
       "count  11268.000000  11268.000000  11268.000000  11268.000000  11268.000000   \n",
       "mean       1.806621      1.025293      1.598953     19.892794      0.064874   \n",
       "std        0.394965      0.164744      1.438255     70.454194      0.372763   \n",
       "min        1.000000      1.000000      1.000000      0.000000      0.000000   \n",
       "25%        2.000000      1.000000      1.000000      0.000000      0.000000   \n",
       "50%        2.000000      1.000000      1.000000      0.000000      0.000000   \n",
       "75%        2.000000      1.000000      1.000000      0.000000      0.000000   \n",
       "max        2.000000      3.000000     20.000000   1000.000000      8.000000   \n",
       "\n",
       "           PhotoAmt  AdoptionSpeed  AdoptionSpeed_Dummy  DescriptionCount  \\\n",
       "count  11268.000000   11268.000000         11268.000000      11268.000000   \n",
       "mean       4.128417       2.463348             0.523252         62.609869   \n",
       "std        3.696472       1.157970             0.499481         69.364748   \n",
       "min        0.000000       0.000000             0.000000          0.000000   \n",
       "25%        2.000000       2.000000             0.000000         21.000000   \n",
       "50%        3.000000       2.000000             1.000000         44.000000   \n",
       "75%        5.000000       4.000000             1.000000         80.000000   \n",
       "max       30.000000       4.000000             1.000000       1257.000000   \n",
       "\n",
       "       Gender_Dummy    Type_Dummy  Health_Dummy  Vaccinated_Dummy  \\\n",
       "count  11268.000000  11268.000000  11268.000000       11268.00000   \n",
       "mean       0.487487      0.501154      0.975950           0.40158   \n",
       "std        0.499866      0.500021      0.153212           0.49024   \n",
       "min        0.000000      0.000000      0.000000           0.00000   \n",
       "25%        0.000000      0.000000      1.000000           0.00000   \n",
       "50%        0.000000      1.000000      1.000000           0.00000   \n",
       "75%        1.000000      1.000000      1.000000           1.00000   \n",
       "max        1.000000      1.000000      1.000000           1.00000   \n",
       "\n",
       "       Dewormed_Dummy  Sterilized_Dummy  \n",
       "count    11268.000000      11268.000000  \n",
       "mean         0.599574          0.193379  \n",
       "std          0.490006          0.394965  \n",
       "min          0.000000          0.000000  \n",
       "25%          0.000000          0.000000  \n",
       "50%          1.000000          0.000000  \n",
       "75%          1.000000          0.000000  \n",
       "max          1.000000          1.000000  "
      ]
     },
     "execution_count": 29,
     "metadata": {},
     "output_type": "execute_result"
    }
   ],
   "source": [
    "data.describe()"
   ]
  },
  {
   "cell_type": "code",
   "execution_count": 30,
   "metadata": {},
   "outputs": [
    {
     "data": {
      "text/html": [
       "<div>\n",
       "<style scoped>\n",
       "    .dataframe tbody tr th:only-of-type {\n",
       "        vertical-align: middle;\n",
       "    }\n",
       "\n",
       "    .dataframe tbody tr th {\n",
       "        vertical-align: top;\n",
       "    }\n",
       "\n",
       "    .dataframe thead th {\n",
       "        text-align: right;\n",
       "    }\n",
       "</style>\n",
       "<table border=\"1\" class=\"dataframe\">\n",
       "  <thead>\n",
       "    <tr style=\"text-align: right;\">\n",
       "      <th></th>\n",
       "      <th>PetID</th>\n",
       "      <th>RescuerID</th>\n",
       "      <th>Type</th>\n",
       "      <th>Name</th>\n",
       "      <th>Age</th>\n",
       "      <th>BreedName1</th>\n",
       "      <th>BreedName2</th>\n",
       "      <th>Gender</th>\n",
       "      <th>ColorName1</th>\n",
       "      <th>ColorName2</th>\n",
       "      <th>...</th>\n",
       "      <th>AdoptionSpeed</th>\n",
       "      <th>Named?</th>\n",
       "      <th>AdoptionSpeed_Dummy</th>\n",
       "      <th>DescriptionCount</th>\n",
       "      <th>Gender_Dummy</th>\n",
       "      <th>Type_Dummy</th>\n",
       "      <th>Health_Dummy</th>\n",
       "      <th>Vaccinated_Dummy</th>\n",
       "      <th>Dewormed_Dummy</th>\n",
       "      <th>Sterilized_Dummy</th>\n",
       "    </tr>\n",
       "  </thead>\n",
       "  <tbody>\n",
       "    <tr>\n",
       "      <th>0</th>\n",
       "      <td>86e1089a3</td>\n",
       "      <td>8480853f516546f6cf33aa88cd76c379</td>\n",
       "      <td>Cat</td>\n",
       "      <td>Nibble</td>\n",
       "      <td>3</td>\n",
       "      <td>Tabby</td>\n",
       "      <td>NaN</td>\n",
       "      <td>Male</td>\n",
       "      <td>Black</td>\n",
       "      <td>White</td>\n",
       "      <td>...</td>\n",
       "      <td>2</td>\n",
       "      <td>True</td>\n",
       "      <td>1</td>\n",
       "      <td>69</td>\n",
       "      <td>0</td>\n",
       "      <td>0</td>\n",
       "      <td>1</td>\n",
       "      <td>0</td>\n",
       "      <td>0</td>\n",
       "      <td>0</td>\n",
       "    </tr>\n",
       "    <tr>\n",
       "      <th>2</th>\n",
       "      <td>3422e4906</td>\n",
       "      <td>fa90fa5b1ee11c86938398b60abc32cb</td>\n",
       "      <td>Dog</td>\n",
       "      <td>Brisco</td>\n",
       "      <td>1</td>\n",
       "      <td>Mixed Breed</td>\n",
       "      <td>NaN</td>\n",
       "      <td>Male</td>\n",
       "      <td>Brown</td>\n",
       "      <td>White</td>\n",
       "      <td>...</td>\n",
       "      <td>3</td>\n",
       "      <td>True</td>\n",
       "      <td>0</td>\n",
       "      <td>69</td>\n",
       "      <td>0</td>\n",
       "      <td>1</td>\n",
       "      <td>1</td>\n",
       "      <td>1</td>\n",
       "      <td>1</td>\n",
       "      <td>0</td>\n",
       "    </tr>\n",
       "    <tr>\n",
       "      <th>3</th>\n",
       "      <td>5842f1ff5</td>\n",
       "      <td>9238e4f44c71a75282e62f7136c6b240</td>\n",
       "      <td>Dog</td>\n",
       "      <td>Miko</td>\n",
       "      <td>4</td>\n",
       "      <td>Mixed Breed</td>\n",
       "      <td>NaN</td>\n",
       "      <td>Female</td>\n",
       "      <td>Black</td>\n",
       "      <td>Brown</td>\n",
       "      <td>...</td>\n",
       "      <td>2</td>\n",
       "      <td>True</td>\n",
       "      <td>1</td>\n",
       "      <td>25</td>\n",
       "      <td>1</td>\n",
       "      <td>1</td>\n",
       "      <td>1</td>\n",
       "      <td>1</td>\n",
       "      <td>1</td>\n",
       "      <td>0</td>\n",
       "    </tr>\n",
       "    <tr>\n",
       "      <th>4</th>\n",
       "      <td>850a43f90</td>\n",
       "      <td>95481e953f8aed9ec3d16fc4509537e8</td>\n",
       "      <td>Dog</td>\n",
       "      <td>Hunter</td>\n",
       "      <td>1</td>\n",
       "      <td>Mixed Breed</td>\n",
       "      <td>NaN</td>\n",
       "      <td>Male</td>\n",
       "      <td>Black</td>\n",
       "      <td>NaN</td>\n",
       "      <td>...</td>\n",
       "      <td>2</td>\n",
       "      <td>True</td>\n",
       "      <td>1</td>\n",
       "      <td>81</td>\n",
       "      <td>0</td>\n",
       "      <td>1</td>\n",
       "      <td>1</td>\n",
       "      <td>0</td>\n",
       "      <td>0</td>\n",
       "      <td>0</td>\n",
       "    </tr>\n",
       "    <tr>\n",
       "      <th>5</th>\n",
       "      <td>d24c30b4b</td>\n",
       "      <td>22fe332bf9c924d4718005891c63fbed</td>\n",
       "      <td>Cat</td>\n",
       "      <td>No Name Yet</td>\n",
       "      <td>3</td>\n",
       "      <td>Domestic Short Hair</td>\n",
       "      <td>NaN</td>\n",
       "      <td>Female</td>\n",
       "      <td>Cream</td>\n",
       "      <td>Gray</td>\n",
       "      <td>...</td>\n",
       "      <td>2</td>\n",
       "      <td>False</td>\n",
       "      <td>1</td>\n",
       "      <td>18</td>\n",
       "      <td>1</td>\n",
       "      <td>0</td>\n",
       "      <td>1</td>\n",
       "      <td>0</td>\n",
       "      <td>0</td>\n",
       "      <td>0</td>\n",
       "    </tr>\n",
       "  </tbody>\n",
       "</table>\n",
       "<p>5 rows × 33 columns</p>\n",
       "</div>"
      ],
      "text/plain": [
       "       PetID                         RescuerID Type         Name  Age  \\\n",
       "0  86e1089a3  8480853f516546f6cf33aa88cd76c379  Cat       Nibble    3   \n",
       "2  3422e4906  fa90fa5b1ee11c86938398b60abc32cb  Dog       Brisco    1   \n",
       "3  5842f1ff5  9238e4f44c71a75282e62f7136c6b240  Dog         Miko    4   \n",
       "4  850a43f90  95481e953f8aed9ec3d16fc4509537e8  Dog       Hunter    1   \n",
       "5  d24c30b4b  22fe332bf9c924d4718005891c63fbed  Cat  No Name Yet    3   \n",
       "\n",
       "            BreedName1 BreedName2  Gender ColorName1 ColorName2  ...  \\\n",
       "0                Tabby        NaN    Male      Black      White  ...   \n",
       "2          Mixed Breed        NaN    Male      Brown      White  ...   \n",
       "3          Mixed Breed        NaN  Female      Black      Brown  ...   \n",
       "4          Mixed Breed        NaN    Male      Black        NaN  ...   \n",
       "5  Domestic Short Hair        NaN  Female      Cream       Gray  ...   \n",
       "\n",
       "  AdoptionSpeed  Named?  AdoptionSpeed_Dummy  DescriptionCount  Gender_Dummy  \\\n",
       "0             2    True                    1                69             0   \n",
       "2             3    True                    0                69             0   \n",
       "3             2    True                    1                25             1   \n",
       "4             2    True                    1                81             0   \n",
       "5             2   False                    1                18             1   \n",
       "\n",
       "   Type_Dummy  Health_Dummy  Vaccinated_Dummy  Dewormed_Dummy Sterilized_Dummy  \n",
       "0           0             1                 0               0                0  \n",
       "2           1             1                 1               1                0  \n",
       "3           1             1                 1               1                0  \n",
       "4           1             1                 0               0                0  \n",
       "5           0             1                 0               0                0  \n",
       "\n",
       "[5 rows x 33 columns]"
      ]
     },
     "execution_count": 30,
     "metadata": {},
     "output_type": "execute_result"
    }
   ],
   "source": [
    "#Final data form\n",
    "data.head()"
   ]
  },
  {
   "cell_type": "markdown",
   "metadata": {},
   "source": [
    "# 2. Data Visualisation"
   ]
  },
  {
   "cell_type": "markdown",
   "metadata": {},
   "source": [
    "Here I visualise the means of a select range of features in the context of both AdoptionSpeed and the newly created AdoptionSpeed_Dummy"
   ]
  },
  {
   "cell_type": "markdown",
   "metadata": {},
   "source": [
    "### AdoptionSpeed"
   ]
  },
  {
   "cell_type": "code",
   "execution_count": 31,
   "metadata": {},
   "outputs": [
    {
     "data": {
      "text/html": [
       "<div>\n",
       "<style scoped>\n",
       "    .dataframe tbody tr th:only-of-type {\n",
       "        vertical-align: middle;\n",
       "    }\n",
       "\n",
       "    .dataframe tbody tr th {\n",
       "        vertical-align: top;\n",
       "    }\n",
       "\n",
       "    .dataframe thead th {\n",
       "        text-align: right;\n",
       "    }\n",
       "</style>\n",
       "<table border=\"1\" class=\"dataframe\">\n",
       "  <thead>\n",
       "    <tr style=\"text-align: right;\">\n",
       "      <th></th>\n",
       "      <th>Age</th>\n",
       "      <th>MaturitySize</th>\n",
       "      <th>FurLength</th>\n",
       "      <th>Vaccinated</th>\n",
       "      <th>Dewormed</th>\n",
       "      <th>Sterilized</th>\n",
       "      <th>Health</th>\n",
       "      <th>Quantity</th>\n",
       "      <th>Fee</th>\n",
       "      <th>VideoAmt</th>\n",
       "      <th>PhotoAmt</th>\n",
       "      <th>Named?</th>\n",
       "      <th>AdoptionSpeed_Dummy</th>\n",
       "      <th>DescriptionCount</th>\n",
       "      <th>Gender_Dummy</th>\n",
       "      <th>Type_Dummy</th>\n",
       "      <th>Health_Dummy</th>\n",
       "      <th>Vaccinated_Dummy</th>\n",
       "      <th>Dewormed_Dummy</th>\n",
       "      <th>Sterilized_Dummy</th>\n",
       "    </tr>\n",
       "    <tr>\n",
       "      <th>AdoptionSpeed</th>\n",
       "      <th></th>\n",
       "      <th></th>\n",
       "      <th></th>\n",
       "      <th></th>\n",
       "      <th></th>\n",
       "      <th></th>\n",
       "      <th></th>\n",
       "      <th></th>\n",
       "      <th></th>\n",
       "      <th></th>\n",
       "      <th></th>\n",
       "      <th></th>\n",
       "      <th></th>\n",
       "      <th></th>\n",
       "      <th></th>\n",
       "      <th></th>\n",
       "      <th></th>\n",
       "      <th></th>\n",
       "      <th></th>\n",
       "      <th></th>\n",
       "    </tr>\n",
       "  </thead>\n",
       "  <tbody>\n",
       "    <tr>\n",
       "      <th>0</th>\n",
       "      <td>5.825342</td>\n",
       "      <td>1.791096</td>\n",
       "      <td>1.630137</td>\n",
       "      <td>1.640411</td>\n",
       "      <td>1.465753</td>\n",
       "      <td>1.845890</td>\n",
       "      <td>1.037671</td>\n",
       "      <td>1.452055</td>\n",
       "      <td>22.565068</td>\n",
       "      <td>0.054795</td>\n",
       "      <td>3.404110</td>\n",
       "      <td>0.934932</td>\n",
       "      <td>1.0</td>\n",
       "      <td>56.482877</td>\n",
       "      <td>0.503425</td>\n",
       "      <td>0.366438</td>\n",
       "      <td>0.965753</td>\n",
       "      <td>0.359589</td>\n",
       "      <td>0.534247</td>\n",
       "      <td>0.154110</td>\n",
       "    </tr>\n",
       "    <tr>\n",
       "      <th>1</th>\n",
       "      <td>4.080512</td>\n",
       "      <td>1.805120</td>\n",
       "      <td>1.500000</td>\n",
       "      <td>1.696532</td>\n",
       "      <td>1.468621</td>\n",
       "      <td>1.900908</td>\n",
       "      <td>1.023121</td>\n",
       "      <td>1.477291</td>\n",
       "      <td>20.757225</td>\n",
       "      <td>0.050372</td>\n",
       "      <td>3.922791</td>\n",
       "      <td>0.910818</td>\n",
       "      <td>1.0</td>\n",
       "      <td>62.088357</td>\n",
       "      <td>0.433113</td>\n",
       "      <td>0.423204</td>\n",
       "      <td>0.977704</td>\n",
       "      <td>0.303468</td>\n",
       "      <td>0.531379</td>\n",
       "      <td>0.099092</td>\n",
       "    </tr>\n",
       "    <tr>\n",
       "      <th>2</th>\n",
       "      <td>4.218730</td>\n",
       "      <td>1.856380</td>\n",
       "      <td>1.431175</td>\n",
       "      <td>1.632307</td>\n",
       "      <td>1.407605</td>\n",
       "      <td>1.857951</td>\n",
       "      <td>1.019799</td>\n",
       "      <td>1.594909</td>\n",
       "      <td>19.749214</td>\n",
       "      <td>0.071339</td>\n",
       "      <td>4.265871</td>\n",
       "      <td>0.923633</td>\n",
       "      <td>1.0</td>\n",
       "      <td>63.246386</td>\n",
       "      <td>0.475801</td>\n",
       "      <td>0.493715</td>\n",
       "      <td>0.980830</td>\n",
       "      <td>0.367693</td>\n",
       "      <td>0.592395</td>\n",
       "      <td>0.142049</td>\n",
       "    </tr>\n",
       "    <tr>\n",
       "      <th>3</th>\n",
       "      <td>5.114819</td>\n",
       "      <td>1.880016</td>\n",
       "      <td>1.398888</td>\n",
       "      <td>1.547874</td>\n",
       "      <td>1.342868</td>\n",
       "      <td>1.792610</td>\n",
       "      <td>1.025824</td>\n",
       "      <td>1.577672</td>\n",
       "      <td>18.231228</td>\n",
       "      <td>0.083433</td>\n",
       "      <td>4.924513</td>\n",
       "      <td>0.932062</td>\n",
       "      <td>0.0</td>\n",
       "      <td>68.715137</td>\n",
       "      <td>0.519269</td>\n",
       "      <td>0.555026</td>\n",
       "      <td>0.975368</td>\n",
       "      <td>0.452126</td>\n",
       "      <td>0.657132</td>\n",
       "      <td>0.207390</td>\n",
       "    </tr>\n",
       "    <tr>\n",
       "      <th>4</th>\n",
       "      <td>7.385639</td>\n",
       "      <td>1.854641</td>\n",
       "      <td>1.374081</td>\n",
       "      <td>1.517688</td>\n",
       "      <td>1.378634</td>\n",
       "      <td>1.677758</td>\n",
       "      <td>1.031524</td>\n",
       "      <td>1.740455</td>\n",
       "      <td>20.511033</td>\n",
       "      <td>0.054641</td>\n",
       "      <td>3.521891</td>\n",
       "      <td>0.906130</td>\n",
       "      <td>0.0</td>\n",
       "      <td>57.587040</td>\n",
       "      <td>0.516988</td>\n",
       "      <td>0.541856</td>\n",
       "      <td>0.970578</td>\n",
       "      <td>0.482312</td>\n",
       "      <td>0.621366</td>\n",
       "      <td>0.322242</td>\n",
       "    </tr>\n",
       "  </tbody>\n",
       "</table>\n",
       "</div>"
      ],
      "text/plain": [
       "                    Age  MaturitySize  FurLength  Vaccinated  Dewormed  \\\n",
       "AdoptionSpeed                                                            \n",
       "0              5.825342      1.791096   1.630137    1.640411  1.465753   \n",
       "1              4.080512      1.805120   1.500000    1.696532  1.468621   \n",
       "2              4.218730      1.856380   1.431175    1.632307  1.407605   \n",
       "3              5.114819      1.880016   1.398888    1.547874  1.342868   \n",
       "4              7.385639      1.854641   1.374081    1.517688  1.378634   \n",
       "\n",
       "               Sterilized    Health  Quantity        Fee  VideoAmt  PhotoAmt  \\\n",
       "AdoptionSpeed                                                                  \n",
       "0                1.845890  1.037671  1.452055  22.565068  0.054795  3.404110   \n",
       "1                1.900908  1.023121  1.477291  20.757225  0.050372  3.922791   \n",
       "2                1.857951  1.019799  1.594909  19.749214  0.071339  4.265871   \n",
       "3                1.792610  1.025824  1.577672  18.231228  0.083433  4.924513   \n",
       "4                1.677758  1.031524  1.740455  20.511033  0.054641  3.521891   \n",
       "\n",
       "                 Named?  AdoptionSpeed_Dummy  DescriptionCount  Gender_Dummy  \\\n",
       "AdoptionSpeed                                                                  \n",
       "0              0.934932                  1.0         56.482877      0.503425   \n",
       "1              0.910818                  1.0         62.088357      0.433113   \n",
       "2              0.923633                  1.0         63.246386      0.475801   \n",
       "3              0.932062                  0.0         68.715137      0.519269   \n",
       "4              0.906130                  0.0         57.587040      0.516988   \n",
       "\n",
       "               Type_Dummy  Health_Dummy  Vaccinated_Dummy  Dewormed_Dummy  \\\n",
       "AdoptionSpeed                                                               \n",
       "0                0.366438      0.965753          0.359589        0.534247   \n",
       "1                0.423204      0.977704          0.303468        0.531379   \n",
       "2                0.493715      0.980830          0.367693        0.592395   \n",
       "3                0.555026      0.975368          0.452126        0.657132   \n",
       "4                0.541856      0.970578          0.482312        0.621366   \n",
       "\n",
       "               Sterilized_Dummy  \n",
       "AdoptionSpeed                    \n",
       "0                      0.154110  \n",
       "1                      0.099092  \n",
       "2                      0.142049  \n",
       "3                      0.207390  \n",
       "4                      0.322242  "
      ]
     },
     "execution_count": 31,
     "metadata": {},
     "output_type": "execute_result"
    }
   ],
   "source": [
    "speeds = [0,1,2,3,4]\n",
    "\n",
    "AdoptionSpeedStats = data.groupby(\"AdoptionSpeed\").mean()\n",
    "AdoptionSpeedStats"
   ]
  },
  {
   "cell_type": "code",
   "execution_count": 32,
   "metadata": {},
   "outputs": [],
   "source": [
    "#Template\n",
    "#plt.figure(figsize=(15,6))\n",
    "#plt.title()\n",
    "#plt.xlabel()\n",
    "#plt.ylabel()\n",
    "#sns.lineplot()\n",
    "#plt.show()"
   ]
  },
  {
   "cell_type": "markdown",
   "metadata": {},
   "source": [
    "***Age***"
   ]
  },
  {
   "cell_type": "code",
   "execution_count": 33,
   "metadata": {},
   "outputs": [
    {
     "data": {
      "image/png": "[encoded data removed]",
      "text/plain": [
       "<Figure size 1080x432 with 1 Axes>"
      ]
     },
     "metadata": {
      "needs_background": "light"
     },
     "output_type": "display_data"
    }
   ],
   "source": [
    "plt.figure(figsize=(15,6))\n",
    "plt.title(\"AdoptionSpeed vs Age\")\n",
    "plt.xlabel(\"AdoptionSpeed\")\n",
    "sns.lineplot(speeds,AdoptionSpeedStats['Age'],marker=\"o\")\n",
    "plt.show()\n",
    "\n",
    "#Pets adopted within shorter time frames are of a medium age, on average - \n",
    "#possibly because people view younger pets as harder to train. We then observe \n",
    "#that pets adopted within longer timeframes are older, on average."
   ]
  },
  {
   "cell_type": "markdown",
   "metadata": {},
   "source": [
    "***Maturity Size***"
   ]
  },
  {
   "cell_type": "code",
   "execution_count": 34,
   "metadata": {},
   "outputs": [
    {
     "data": {
      "image/png": "[encoded data removed]",
      "text/plain": [
       "<Figure size 1080x432 with 1 Axes>"
      ]
     },
     "metadata": {
      "needs_background": "light"
     },
     "output_type": "display_data"
    }
   ],
   "source": [
    "plt.figure(figsize=(15,6))\n",
    "plt.title(\"AdoptionSpeed vs MaturitySize\")\n",
    "plt.xlabel(\"AdoptionSpeed\")\n",
    "sns.lineplot(speeds,AdoptionSpeedStats['MaturitySize'],marker=\"o\")\n",
    "plt.show()\n",
    "\n",
    "#Pets adopted within shorter time frames are more likely to have a \n",
    "#smaller maturity size , on average."
   ]
  },
  {
   "cell_type": "markdown",
   "metadata": {},
   "source": [
    "***Vaccinated***"
   ]
  },
  {
   "cell_type": "code",
   "execution_count": 35,
   "metadata": {},
   "outputs": [
    {
     "data": {
      "image/png": "[encoded data removed]",
      "text/plain": [
       "<Figure size 1080x432 with 1 Axes>"
      ]
     },
     "metadata": {
      "needs_background": "light"
     },
     "output_type": "display_data"
    }
   ],
   "source": [
    "plt.figure(figsize=(15,6))\n",
    "plt.title(\"AdoptionSpeed vs Vaccinated_Dummy\")\n",
    "plt.xlabel(\"AdoptionSpeed\")\n",
    "sns.lineplot(speeds,AdoptionSpeedStats['Vaccinated_Dummy'],marker=\"o\")\n",
    "plt.show()\n",
    "\n",
    "#Pets adopted within shorter time frames are more likely to not be vaccinated,\n",
    "#on average."
   ]
  },
  {
   "cell_type": "markdown",
   "metadata": {},
   "source": [
    "***Quantity***"
   ]
  },
  {
   "cell_type": "code",
   "execution_count": 36,
   "metadata": {},
   "outputs": [
    {
     "data": {
      "image/png": "[encoded data removed]",
      "text/plain": [
       "<Figure size 1080x432 with 1 Axes>"
      ]
     },
     "metadata": {
      "needs_background": "light"
     },
     "output_type": "display_data"
    }
   ],
   "source": [
    "plt.figure(figsize=(15,6))\n",
    "plt.title(\"AdoptionSpeed vs Quantity\")\n",
    "plt.xlabel(\"AdoptionSpeed\")\n",
    "sns.lineplot(speeds,AdoptionSpeedStats['Quantity'],marker=\"o\")\n",
    "plt.show()\n",
    "\n",
    "#Pets adopted within shorter time frames are from listings with a smaller quantity,\n",
    "#on average."
   ]
  },
  {
   "cell_type": "markdown",
   "metadata": {},
   "source": [
    "***Fee***"
   ]
  },
  {
   "cell_type": "code",
   "execution_count": 37,
   "metadata": {},
   "outputs": [
    {
     "data": {
      "image/png": "[encoded data removed]",
      "text/plain": [
       "<Figure size 1080x432 with 1 Axes>"
      ]
     },
     "metadata": {
      "needs_background": "light"
     },
     "output_type": "display_data"
    }
   ],
   "source": [
    "plt.figure(figsize=(15,6))\n",
    "plt.title(\"AdoptionSpeed vs Fee\")\n",
    "plt.xlabel(\"AdoptionSpeed\")\n",
    "sns.lineplot(speeds,AdoptionSpeedStats['Fee'],marker=\"o\")\n",
    "plt.show()\n",
    "\n",
    "#Pets adopted within shorter time frames commend a higher fee, on average."
   ]
  },
  {
   "cell_type": "markdown",
   "metadata": {},
   "source": [
    "### AdoptionSpeed_Dummy"
   ]
  },
  {
   "cell_type": "code",
   "execution_count": 38,
   "metadata": {},
   "outputs": [
    {
     "data": {
      "text/html": [
       "<div>\n",
       "<style scoped>\n",
       "    .dataframe tbody tr th:only-of-type {\n",
       "        vertical-align: middle;\n",
       "    }\n",
       "\n",
       "    .dataframe tbody tr th {\n",
       "        vertical-align: top;\n",
       "    }\n",
       "\n",
       "    .dataframe thead th {\n",
       "        text-align: right;\n",
       "    }\n",
       "</style>\n",
       "<table border=\"1\" class=\"dataframe\">\n",
       "  <thead>\n",
       "    <tr style=\"text-align: right;\">\n",
       "      <th></th>\n",
       "      <th>Age</th>\n",
       "      <th>MaturitySize</th>\n",
       "      <th>FurLength</th>\n",
       "      <th>Vaccinated</th>\n",
       "      <th>Dewormed</th>\n",
       "      <th>Sterilized</th>\n",
       "      <th>Health</th>\n",
       "      <th>Quantity</th>\n",
       "      <th>Fee</th>\n",
       "      <th>VideoAmt</th>\n",
       "      <th>PhotoAmt</th>\n",
       "      <th>AdoptionSpeed</th>\n",
       "      <th>Named?</th>\n",
       "      <th>DescriptionCount</th>\n",
       "      <th>Gender_Dummy</th>\n",
       "      <th>Type_Dummy</th>\n",
       "      <th>Health_Dummy</th>\n",
       "      <th>Vaccinated_Dummy</th>\n",
       "      <th>Dewormed_Dummy</th>\n",
       "      <th>Sterilized_Dummy</th>\n",
       "    </tr>\n",
       "    <tr>\n",
       "      <th>AdoptionSpeed_Dummy</th>\n",
       "      <th></th>\n",
       "      <th></th>\n",
       "      <th></th>\n",
       "      <th></th>\n",
       "      <th></th>\n",
       "      <th></th>\n",
       "      <th></th>\n",
       "      <th></th>\n",
       "      <th></th>\n",
       "      <th></th>\n",
       "      <th></th>\n",
       "      <th></th>\n",
       "      <th></th>\n",
       "      <th></th>\n",
       "      <th></th>\n",
       "      <th></th>\n",
       "      <th></th>\n",
       "      <th></th>\n",
       "      <th></th>\n",
       "      <th></th>\n",
       "    </tr>\n",
       "  </thead>\n",
       "  <tbody>\n",
       "    <tr>\n",
       "      <th>0</th>\n",
       "      <td>6.321668</td>\n",
       "      <td>1.86653</td>\n",
       "      <td>1.385704</td>\n",
       "      <td>1.531832</td>\n",
       "      <td>1.361876</td>\n",
       "      <td>1.731571</td>\n",
       "      <td>1.028853</td>\n",
       "      <td>1.664185</td>\n",
       "      <td>19.442852</td>\n",
       "      <td>0.068131</td>\n",
       "      <td>4.179077</td>\n",
       "      <td>3.531459</td>\n",
       "      <td>0.918280</td>\n",
       "      <td>62.801005</td>\n",
       "      <td>0.518057</td>\n",
       "      <td>0.548027</td>\n",
       "      <td>0.972822</td>\n",
       "      <td>0.468168</td>\n",
       "      <td>0.638124</td>\n",
       "      <td>0.268429</td>\n",
       "    </tr>\n",
       "    <tr>\n",
       "      <th>1</th>\n",
       "      <td>4.241520</td>\n",
       "      <td>1.83209</td>\n",
       "      <td>1.469301</td>\n",
       "      <td>1.659091</td>\n",
       "      <td>1.435550</td>\n",
       "      <td>1.875000</td>\n",
       "      <td>1.022049</td>\n",
       "      <td>1.539518</td>\n",
       "      <td>20.302748</td>\n",
       "      <td>0.061906</td>\n",
       "      <td>4.082259</td>\n",
       "      <td>1.490163</td>\n",
       "      <td>0.918928</td>\n",
       "      <td>62.435719</td>\n",
       "      <td>0.459634</td>\n",
       "      <td>0.458446</td>\n",
       "      <td>0.978799</td>\n",
       "      <td>0.340909</td>\n",
       "      <td>0.564450</td>\n",
       "      <td>0.125000</td>\n",
       "    </tr>\n",
       "  </tbody>\n",
       "</table>\n",
       "</div>"
      ],
      "text/plain": [
       "                          Age  MaturitySize  FurLength  Vaccinated  Dewormed  \\\n",
       "AdoptionSpeed_Dummy                                                            \n",
       "0                    6.321668       1.86653   1.385704    1.531832  1.361876   \n",
       "1                    4.241520       1.83209   1.469301    1.659091  1.435550   \n",
       "\n",
       "                     Sterilized    Health  Quantity        Fee  VideoAmt  \\\n",
       "AdoptionSpeed_Dummy                                                        \n",
       "0                      1.731571  1.028853  1.664185  19.442852  0.068131   \n",
       "1                      1.875000  1.022049  1.539518  20.302748  0.061906   \n",
       "\n",
       "                     PhotoAmt  AdoptionSpeed    Named?  DescriptionCount  \\\n",
       "AdoptionSpeed_Dummy                                                        \n",
       "0                    4.179077       3.531459  0.918280         62.801005   \n",
       "1                    4.082259       1.490163  0.918928         62.435719   \n",
       "\n",
       "                     Gender_Dummy  Type_Dummy  Health_Dummy  Vaccinated_Dummy  \\\n",
       "AdoptionSpeed_Dummy                                                             \n",
       "0                        0.518057    0.548027      0.972822          0.468168   \n",
       "1                        0.459634    0.458446      0.978799          0.340909   \n",
       "\n",
       "                     Dewormed_Dummy  Sterilized_Dummy  \n",
       "AdoptionSpeed_Dummy                                    \n",
       "0                          0.638124          0.268429  \n",
       "1                          0.564450          0.125000  "
      ]
     },
     "execution_count": 38,
     "metadata": {},
     "output_type": "execute_result"
    }
   ],
   "source": [
    "dummy_speeds = [0,1]\n",
    "\n",
    "AdoptionSpeed_Dummy_Stats = data.groupby(\"AdoptionSpeed_Dummy\").mean()\n",
    "AdoptionSpeed_Dummy_Stats\n",
    "\n",
    "#NB AdoptionSpeed_Dummy interpretation:\n",
    "#1 - Adopted within 1 month\n",
    "#0 - Not adopted within 1 month"
   ]
  },
  {
   "cell_type": "markdown",
   "metadata": {},
   "source": [
    "***Age***"
   ]
  },
  {
   "cell_type": "code",
   "execution_count": 39,
   "metadata": {},
   "outputs": [
    {
     "data": {
      "image/png": "[encoded data removed]",
      "text/plain": [
       "<Figure size 1080x432 with 1 Axes>"
      ]
     },
     "metadata": {
      "needs_background": "light"
     },
     "output_type": "display_data"
    }
   ],
   "source": [
    "plt.figure(figsize=(15,6))\n",
    "plt.title(\"AdoptionSpeed_Dummy vs Age\")\n",
    "plt.xlabel(\"AdoptionSpeed_Dummy\")\n",
    "sns.barplot(dummy_speeds,AdoptionSpeed_Dummy_Stats['Age'])\n",
    "plt.show()\n",
    "\n",
    "#Pets adopted within 1 month are younger, on average"
   ]
  },
  {
   "cell_type": "markdown",
   "metadata": {},
   "source": [
    "***Maturity Size***"
   ]
  },
  {
   "cell_type": "code",
   "execution_count": 40,
   "metadata": {},
   "outputs": [
    {
     "data": {
      "image/png": "[encoded data removed]",
      "text/plain": [
       "<Figure size 1080x432 with 1 Axes>"
      ]
     },
     "metadata": {
      "needs_background": "light"
     },
     "output_type": "display_data"
    }
   ],
   "source": [
    "plt.figure(figsize=(15,6))\n",
    "plt.title(\"AdoptionSpeed_Dummy vs MaturitySize\")\n",
    "plt.xlabel(\"AdoptionSpeed_Dummy\")\n",
    "sns.barplot(dummy_speeds,AdoptionSpeed_Dummy_Stats['MaturitySize'])\n",
    "plt.show()\n",
    "\n",
    "#We observe little difference in the maturity size, on average"
   ]
  },
  {
   "cell_type": "markdown",
   "metadata": {},
   "source": [
    "***Vaccinated_Dummy***"
   ]
  },
  {
   "cell_type": "code",
   "execution_count": 41,
   "metadata": {},
   "outputs": [
    {
     "data": {
      "image/png": "[encoded data removed]",
      "text/plain": [
       "<Figure size 1080x432 with 1 Axes>"
      ]
     },
     "metadata": {
      "needs_background": "light"
     },
     "output_type": "display_data"
    }
   ],
   "source": [
    "plt.figure(figsize=(15,6))\n",
    "plt.title(\"AdoptionSpeed_Dummy vs Vaccinated_Dummy\")\n",
    "plt.xlabel(\"AdoptionSpeed_Dummy\")\n",
    "sns.barplot(dummy_speeds,AdoptionSpeed_Dummy_Stats['Vaccinated_Dummy'])\n",
    "plt.show()\n",
    "\n",
    "#On average, pets adopted within 1 month are less likely to be vaccinated.\n",
    "#This is possibly due to the fact that pets adopted within 1 month are\n",
    "#younger than those not adopted within 1 month, as demonstrated above, and \n",
    "#so may not have been vaccinated yet. "
   ]
  },
  {
   "cell_type": "markdown",
   "metadata": {},
   "source": [
    "***Quantity***"
   ]
  },
  {
   "cell_type": "code",
   "execution_count": 42,
   "metadata": {},
   "outputs": [
    {
     "data": {
      "image/png": "[encoded data removed]",
      "text/plain": [
       "<Figure size 1080x432 with 1 Axes>"
      ]
     },
     "metadata": {
      "needs_background": "light"
     },
     "output_type": "display_data"
    }
   ],
   "source": [
    "plt.figure(figsize=(15,6))\n",
    "plt.title(\"AdoptionSpeed_Dummy vs Quantity\")\n",
    "plt.xlabel(\"AdoptionSpeed_Dummy\")\n",
    "sns.barplot(dummy_speeds,AdoptionSpeed_Dummy_Stats['Quantity'])\n",
    "plt.show()\n",
    "\n",
    "#There is a slight difference in the average quantity of pets adopted."
   ]
  },
  {
   "cell_type": "markdown",
   "metadata": {},
   "source": [
    "***Fee***"
   ]
  },
  {
   "cell_type": "code",
   "execution_count": 43,
   "metadata": {},
   "outputs": [
    {
     "data": {
      "image/png": "[encoded data removed]",
      "text/plain": [
       "<Figure size 1080x432 with 1 Axes>"
      ]
     },
     "metadata": {
      "needs_background": "light"
     },
     "output_type": "display_data"
    }
   ],
   "source": [
    "plt.figure(figsize=(15,6))\n",
    "plt.title(\"AdoptionSpeed_Dummy vs Fee\")\n",
    "plt.xlabel(\"AdoptionSpeed_Dummy\")\n",
    "sns.barplot(dummy_speeds,AdoptionSpeed_Dummy_Stats['Fee'])\n",
    "plt.show()\n",
    "\n",
    "#Surprisingly, pets adopted within 1 month are likely to command a higher fee,\n",
    "#on average."
   ]
  },
  {
   "cell_type": "markdown",
   "metadata": {},
   "source": [
    "***Type_Dummy***"
   ]
  },
  {
   "cell_type": "code",
   "execution_count": 44,
   "metadata": {},
   "outputs": [
    {
     "data": {
      "image/png": "[encoded data removed]",
      "text/plain": [
       "<Figure size 1080x432 with 1 Axes>"
      ]
     },
     "metadata": {
      "needs_background": "light"
     },
     "output_type": "display_data"
    }
   ],
   "source": [
    "plt.figure(figsize=(15,6))\n",
    "plt.title(\"AdoptionSpeed_Dummy vs Type_Dummy\")\n",
    "plt.xlabel(\"AdoptionSpeed_Dummy\")\n",
    "sns.barplot(dummy_speeds,AdoptionSpeed_Dummy_Stats['Type_Dummy'])\n",
    "plt.show()\n",
    "\n",
    "#On average, pets adopted within 1 month are more likely to be cats (Type = 0)\n",
    "#than dogs (Type = 1)."
   ]
  },
  {
   "cell_type": "markdown",
   "metadata": {},
   "source": [
    "# 3. Assessing Factors Affecting Adoption Speed"
   ]
  },
  {
   "cell_type": "markdown",
   "metadata": {},
   "source": [
    "### Logistic Regression"
   ]
  },
  {
   "cell_type": "markdown",
   "metadata": {},
   "source": [
    "***Organising the data for Logistic Regression***"
   ]
  },
  {
   "cell_type": "code",
   "execution_count": 45,
   "metadata": {},
   "outputs": [],
   "source": [
    "LR_features = ['Age','MaturitySize','FurLength','Quantity','Fee','VideoAmt','PhotoAmt',\n",
    "               'Named?','Gender_Dummy','Type_Dummy','Health_Dummy','Vaccinated_Dummy','Dewormed_Dummy',\n",
    "               'Sterilized_Dummy']\n",
    "# I do not use PetID, RescuerID, BreedName, ColorName, StateName.\n",
    "#They either not informative or contain too many categories \n",
    "#(e.g. 149 BreedName1s - excluded to maintain simplicity of the \n",
    "#model and due to time constraint).\n",
    "\n",
    "\n",
    "#Creating the input variable in the appropriate structure for the LogisticRegression() method\n",
    "X_LR = list(zip(data['Age'],data['MaturitySize'],data['FurLength'],data['Quantity'],data['Fee'],\n",
    "             data['VideoAmt'],data['PhotoAmt'],data['Named?'],\n",
    "                  data['Gender_Dummy'],data['Type_Dummy'],data['Health_Dummy'],data['Vaccinated_Dummy'],\n",
    "                  data['Dewormed_Dummy'],data['Sterilized_Dummy']))\n",
    "\n",
    "#Creating the output variable\n",
    "y_LR = data['AdoptionSpeed_Dummy']"
   ]
  },
  {
   "cell_type": "code",
   "execution_count": 46,
   "metadata": {},
   "outputs": [
    {
     "data": {
      "text/plain": [
       "149"
      ]
     },
     "execution_count": 46,
     "metadata": {},
     "output_type": "execute_result"
    }
   ],
   "source": [
    "len(data['BreedName1'].unique())"
   ]
  },
  {
   "cell_type": "code",
   "execution_count": 47,
   "metadata": {},
   "outputs": [],
   "source": [
    "#Function to determine the p-values for each coefficient#\n",
    "# Sklearn does not natively support this functionality\n",
    "#I use this function as I was unable to import 'statsmodels'\n",
    "#Reference:\n",
    "#https://stackoverflow.com/questions/25122999/scikit-learn-how-to-check-coefficients-significance\n",
    "\n",
    "from scipy.stats import norm\n",
    "\n",
    "def logit_pvalue(model, x):\n",
    "    \"\"\" Calculate z-scores for scikit-learn LogisticRegression.\n",
    "    parameters:\n",
    "        model: fitted sklearn.linear_model.LogisticRegression with intercept and large C\n",
    "        x:     matrix on which the model was fit\n",
    "    This function uses asymtptics for maximum likelihood estimates.\n",
    "    \"\"\"\n",
    "    p = model.predict_proba(x)\n",
    "    n = len(p)\n",
    "    m = len(model.coef_[0]) + 1\n",
    "    coefs = np.concatenate([model.intercept_, model.coef_[0]])\n",
    "    x_full = np.matrix(np.insert(np.array(x), 0, 1, axis = 1))\n",
    "    ans = np.zeros((m, m))\n",
    "    for i in range(n):\n",
    "        ans = ans + np.dot(np.transpose(x_full[i, :]), x_full[i, :]) * p[i,1] * p[i, 0]\n",
    "    vcov = np.linalg.inv(np.matrix(ans))\n",
    "    se = np.sqrt(np.diag(vcov))\n",
    "    t =  coefs/se  \n",
    "    p = (1 - norm.cdf(abs(t))) * 2\n",
    "    return p"
   ]
  },
  {
   "cell_type": "markdown",
   "metadata": {},
   "source": [
    "***Implementing the Logistic Regression***"
   ]
  },
  {
   "cell_type": "code",
   "execution_count": 48,
   "metadata": {},
   "outputs": [
    {
     "name": "stderr",
     "output_type": "stream",
     "text": [
      "/Users/aashrit/anaconda3/lib/python3.7/site-packages/sklearn/linear_model/logistic.py:432: FutureWarning: Default solver will be changed to 'lbfgs' in 0.22. Specify a solver to silence this warning.\n",
      "  FutureWarning)\n"
     ]
    },
    {
     "name": "stdout",
     "output_type": "stream",
     "text": [
      "Coefficients and Statistical Significance:\n",
      "\n",
      "Age - Coefficient: -0.05, p-value: 0.428\n",
      "MaturitySize - Coefficient: 0.01, p-value: 0.000 ***\n",
      "FurLength - Coefficient: 0.28, p-value: 0.865\n",
      "Quantity - Coefficient: -0.13, p-value: 0.000 ***\n",
      "Fee - Coefficient: 0.00, p-value: 0.000 ***\n",
      "VideoAmt - Coefficient: -0.02, p-value: 0.043 *\n",
      "PhotoAmt - Coefficient: -0.01, p-value: 0.703\n",
      "Named? - Coefficient: 0.11, p-value: 0.280\n",
      "Gender_Dummy - Coefficient: -0.23, p-value: 0.116\n",
      "Type_Dummy - Coefficient: -0.29, p-value: 0.000 ***\n",
      "Health_Dummy - Coefficient: 0.34, p-value: 0.000 ***\n",
      "Vaccinated_Dummy - Coefficient: -0.22, p-value: 0.007 **\n",
      "Dewormed_Dummy - Coefficient: 0.05, p-value: 0.000 ***\n",
      "Sterilized_Dummy - Coefficient: -0.53, p-value: 0.387\n"
     ]
    }
   ],
   "source": [
    "from sklearn.linear_model import LogisticRegression\n",
    "\n",
    "#Building and fitting the logistic regression model\n",
    "model = LogisticRegression()\n",
    "model.fit(X_LR,y_LR)\n",
    "model.coef_\n",
    "\n",
    "p_vals = list(logit_pvalue(model,X_LR))\n",
    "\n",
    "coefficients = {}\n",
    "\n",
    "print(\"Coefficients and Statistical Significance:\")\n",
    "print(\"\")\n",
    "\n",
    "for i in range(len(LR_features)):\n",
    "    coefficients[LR_features[i]] = [\"Coefficient\",model.coef_[0][i],\"p-value: \",p_vals[i]]\n",
    "    if 0.01 <= coefficients[LR_features[i]][3] < 0.05: #Statistically significant at 5%\n",
    "        print(LR_features[i] + \" - Coefficient: \" + \"{:.2f}\".format(coefficients[LR_features[i]][1]) \n",
    "              + \", p-value: \" + \"{:.3f}\".format(p_vals[i])+\" *\")\n",
    "    elif 0.005 < coefficients[LR_features[i]][3] < 0.01: #Statistically significant at 1%\n",
    "        print(LR_features[i] + \" - Coefficient: \" + \"{:.2f}\".format(coefficients[LR_features[i]][1]) \n",
    "              + \", p-value: \" + \"{:.3f}\".format(p_vals[i])+\" **\")\n",
    "    elif coefficients[LR_features[i]][3] <= 0.005: #Statistically significant at 0.5%\n",
    "        print(LR_features[i] + \" - Coefficient: \" + \"{:.2f}\".format(coefficients[LR_features[i]][1]) \n",
    "              + \", p-value: \" + \"{:.3f}\".format(p_vals[i])+\" ***\")\n",
    "    else:\n",
    "        print(LR_features[i] + \" - Coefficient: \" + \"{:.2f}\".format(coefficients[LR_features[i]][1]) \n",
    "              + \", p-value: \" + \"{:.3f}\".format(p_vals[i]))"
   ]
  },
  {
   "cell_type": "markdown",
   "metadata": {},
   "source": [
    "***Determining odds multipliers***"
   ]
  },
  {
   "cell_type": "code",
   "execution_count": 49,
   "metadata": {},
   "outputs": [
    {
     "name": "stdout",
     "output_type": "stream",
     "text": [
      "Age odds multiplier: 0.95\n",
      "MaturitySize odds multiplier: 1.01\n",
      "FurLength odds multiplier: 1.32\n",
      "Quantity odds multiplier: 0.87\n",
      "Fee odds multiplier: 1.00\n",
      "VideoAmt odds multiplier: 0.98\n",
      "PhotoAmt odds multiplier: 0.99\n",
      "Named? odds multiplier: 1.12\n",
      "Gender_Dummy odds multiplier: 0.79\n",
      "Type_Dummy odds multiplier: 0.75\n",
      "Health_Dummy odds multiplier: 1.41\n",
      "Vaccinated_Dummy odds multiplier: 0.80\n",
      "Dewormed_Dummy odds multiplier: 1.05\n",
      "Sterilized_Dummy odds multiplier: 0.59\n"
     ]
    }
   ],
   "source": [
    "import math\n",
    "\n",
    "coefficients_odds = coefficients\n",
    "\n",
    "for i in coefficients_odds:\n",
    "    coefficients_odds[i][1] =  math.exp(coefficients[i][1])\n",
    "    #We take the exponential of the log odds to find the odds multiplier\n",
    "    print(i + \" odds multiplier: \" + \"{:.2f}\".format(coefficients_odds[i][1]))"
   ]
  },
  {
   "cell_type": "code",
   "execution_count": 50,
   "metadata": {},
   "outputs": [
    {
     "data": {
      "text/plain": [
       "Dog    5647\n",
       "Cat    5621\n",
       "Name: Type, dtype: int64"
      ]
     },
     "execution_count": 50,
     "metadata": {},
     "output_type": "execute_result"
    }
   ],
   "source": [
    "#Checks the split between Cats and Dogs in teh data\n",
    "data['Type'].value_counts()"
   ]
  },
  {
   "cell_type": "markdown",
   "metadata": {},
   "source": [
    "# 4. Prediction"
   ]
  },
  {
   "cell_type": "markdown",
   "metadata": {},
   "source": [
    "### **Class Balance Inspection**"
   ]
  },
  {
   "cell_type": "code",
   "execution_count": 51,
   "metadata": {},
   "outputs": [
    {
     "name": "stdout",
     "output_type": "stream",
     "text": [
      "Class 0: 47.67%\n",
      "Class 1: 52.33%\n"
     ]
    }
   ],
   "source": [
    "#Here I inspect the balance between the two classes in the data. We observe an almost exact\n",
    "#50/50 split in the classes, therefore class imbalance is not an issue.\n",
    "class_0 = data['AdoptionSpeed_Dummy'].value_counts()[0]\n",
    "class_1 = data['AdoptionSpeed_Dummy'].value_counts()[1]\n",
    "\n",
    "class_0_share = (class_0/data.shape[0])*100\n",
    "class_1_share = (class_1/data.shape[0])*100\n",
    "\n",
    "class_shares = [class_0_share,class_1_share]\n",
    "\n",
    "for share in class_shares:\n",
    "    print(\"Class \" + str(class_shares.index(share)) + \": \" + \"{:.2f}\".format(share) + \"%\")"
   ]
  },
  {
   "cell_type": "markdown",
   "metadata": {},
   "source": [
    "### **Logistic Model**"
   ]
  },
  {
   "cell_type": "code",
   "execution_count": 52,
   "metadata": {},
   "outputs": [],
   "source": [
    "from sklearn.model_selection import train_test_split\n",
    "X_train_LR, X_test_LR, y_train_LR, y_test_LR = train_test_split(X_LR, y_LR, test_size=0.25, random_state=42)"
   ]
  },
  {
   "cell_type": "code",
   "execution_count": 53,
   "metadata": {},
   "outputs": [
    {
     "name": "stdout",
     "output_type": "stream",
     "text": [
      "Training Accuracy: 61.34% (2dp)\n"
     ]
    },
    {
     "name": "stderr",
     "output_type": "stream",
     "text": [
      "/Users/aashrit/anaconda3/lib/python3.7/site-packages/sklearn/linear_model/logistic.py:432: FutureWarning: Default solver will be changed to 'lbfgs' in 0.22. Specify a solver to silence this warning.\n",
      "  FutureWarning)\n"
     ]
    }
   ],
   "source": [
    "model = LogisticRegression()\n",
    "model.fit(X_train_LR,y_train_LR)\n",
    "pred = model.predict(X_train_LR)\n",
    "\n",
    "misclassifications = sum((y_train_LR - pred)**2)\n",
    "total_predictions = len(pred)\n",
    "total_predictions\n",
    "accuracy = 100 - ((misclassifications/total_predictions) * 100)\n",
    "\n",
    "print(\"Training Accuracy: \" + \"{:.2f}\".format(accuracy) + \"% (2dp)\")"
   ]
  },
  {
   "cell_type": "code",
   "execution_count": 54,
   "metadata": {},
   "outputs": [
    {
     "name": "stdout",
     "output_type": "stream",
     "text": [
      "Test Accuracy: 61.80% (2dp)\n"
     ]
    }
   ],
   "source": [
    "pred = model.predict(X_test_LR)\n",
    "\n",
    "misclassifications = sum((y_test_LR - pred)**2)\n",
    "total_predictions = len(pred)\n",
    "total_predictions\n",
    "accuracy = 100 - ((misclassifications/total_predictions) * 100)\n",
    "\n",
    "print(\"Test Accuracy: \" + \"{:.2f}\".format(accuracy) + \"% (2dp)\")"
   ]
  },
  {
   "cell_type": "markdown",
   "metadata": {},
   "source": [
    "### KNN"
   ]
  },
  {
   "cell_type": "markdown",
   "metadata": {},
   "source": [
    "***Building the Model***"
   ]
  },
  {
   "cell_type": "code",
   "execution_count": 55,
   "metadata": {},
   "outputs": [
    {
     "data": {
      "text/plain": [
       "Index(['PetID', 'RescuerID', 'Type', 'Name', 'Age', 'BreedName1', 'BreedName2',\n",
       "       'Gender', 'ColorName1', 'ColorName2', 'ColorName3', 'MaturitySize',\n",
       "       'FurLength', 'Vaccinated', 'Dewormed', 'Sterilized', 'Health',\n",
       "       'Quantity', 'Fee', 'StateName', 'VideoAmt', 'PhotoAmt', 'Description',\n",
       "       'AdoptionSpeed', 'Named?', 'AdoptionSpeed_Dummy', 'DescriptionCount',\n",
       "       'Gender_Dummy', 'Type_Dummy', 'Health_Dummy', 'Vaccinated_Dummy',\n",
       "       'Dewormed_Dummy', 'Sterilized_Dummy'],\n",
       "      dtype='object')"
      ]
     },
     "execution_count": 55,
     "metadata": {},
     "output_type": "execute_result"
    }
   ],
   "source": [
    "data.columns"
   ]
  },
  {
   "cell_type": "code",
   "execution_count": 56,
   "metadata": {},
   "outputs": [
    {
     "data": {
      "text/html": [
       "<div>\n",
       "<style scoped>\n",
       "    .dataframe tbody tr th:only-of-type {\n",
       "        vertical-align: middle;\n",
       "    }\n",
       "\n",
       "    .dataframe tbody tr th {\n",
       "        vertical-align: top;\n",
       "    }\n",
       "\n",
       "    .dataframe thead th {\n",
       "        text-align: right;\n",
       "    }\n",
       "</style>\n",
       "<table border=\"1\" class=\"dataframe\">\n",
       "  <thead>\n",
       "    <tr style=\"text-align: right;\">\n",
       "      <th></th>\n",
       "      <th>AdoptionSpeed_Dummy</th>\n",
       "      <th>Age</th>\n",
       "      <th>MaturitySize</th>\n",
       "      <th>FurLength</th>\n",
       "      <th>Quantity</th>\n",
       "      <th>Fee</th>\n",
       "      <th>VideoAmt</th>\n",
       "      <th>PhotoAmt</th>\n",
       "      <th>Named?</th>\n",
       "      <th>Gender_Dummy</th>\n",
       "      <th>Type_Dummy</th>\n",
       "      <th>Health_Dummy</th>\n",
       "      <th>Vaccinated_Dummy</th>\n",
       "      <th>Dewormed_Dummy</th>\n",
       "      <th>Sterilized_Dummy</th>\n",
       "    </tr>\n",
       "  </thead>\n",
       "  <tbody>\n",
       "    <tr>\n",
       "      <th>0</th>\n",
       "      <td>1</td>\n",
       "      <td>3</td>\n",
       "      <td>1</td>\n",
       "      <td>1</td>\n",
       "      <td>1</td>\n",
       "      <td>100</td>\n",
       "      <td>0</td>\n",
       "      <td>1</td>\n",
       "      <td>True</td>\n",
       "      <td>0</td>\n",
       "      <td>0</td>\n",
       "      <td>1</td>\n",
       "      <td>0</td>\n",
       "      <td>0</td>\n",
       "      <td>0</td>\n",
       "    </tr>\n",
       "    <tr>\n",
       "      <th>2</th>\n",
       "      <td>0</td>\n",
       "      <td>1</td>\n",
       "      <td>2</td>\n",
       "      <td>2</td>\n",
       "      <td>1</td>\n",
       "      <td>0</td>\n",
       "      <td>0</td>\n",
       "      <td>7</td>\n",
       "      <td>True</td>\n",
       "      <td>0</td>\n",
       "      <td>1</td>\n",
       "      <td>1</td>\n",
       "      <td>1</td>\n",
       "      <td>1</td>\n",
       "      <td>0</td>\n",
       "    </tr>\n",
       "    <tr>\n",
       "      <th>3</th>\n",
       "      <td>1</td>\n",
       "      <td>4</td>\n",
       "      <td>2</td>\n",
       "      <td>1</td>\n",
       "      <td>1</td>\n",
       "      <td>150</td>\n",
       "      <td>0</td>\n",
       "      <td>8</td>\n",
       "      <td>True</td>\n",
       "      <td>1</td>\n",
       "      <td>1</td>\n",
       "      <td>1</td>\n",
       "      <td>1</td>\n",
       "      <td>1</td>\n",
       "      <td>0</td>\n",
       "    </tr>\n",
       "    <tr>\n",
       "      <th>4</th>\n",
       "      <td>1</td>\n",
       "      <td>1</td>\n",
       "      <td>2</td>\n",
       "      <td>1</td>\n",
       "      <td>1</td>\n",
       "      <td>0</td>\n",
       "      <td>0</td>\n",
       "      <td>3</td>\n",
       "      <td>True</td>\n",
       "      <td>0</td>\n",
       "      <td>1</td>\n",
       "      <td>1</td>\n",
       "      <td>0</td>\n",
       "      <td>0</td>\n",
       "      <td>0</td>\n",
       "    </tr>\n",
       "    <tr>\n",
       "      <th>5</th>\n",
       "      <td>1</td>\n",
       "      <td>3</td>\n",
       "      <td>2</td>\n",
       "      <td>1</td>\n",
       "      <td>1</td>\n",
       "      <td>0</td>\n",
       "      <td>0</td>\n",
       "      <td>2</td>\n",
       "      <td>False</td>\n",
       "      <td>1</td>\n",
       "      <td>0</td>\n",
       "      <td>1</td>\n",
       "      <td>0</td>\n",
       "      <td>0</td>\n",
       "      <td>0</td>\n",
       "    </tr>\n",
       "    <tr>\n",
       "      <th>...</th>\n",
       "      <td>...</td>\n",
       "      <td>...</td>\n",
       "      <td>...</td>\n",
       "      <td>...</td>\n",
       "      <td>...</td>\n",
       "      <td>...</td>\n",
       "      <td>...</td>\n",
       "      <td>...</td>\n",
       "      <td>...</td>\n",
       "      <td>...</td>\n",
       "      <td>...</td>\n",
       "      <td>...</td>\n",
       "      <td>...</td>\n",
       "      <td>...</td>\n",
       "      <td>...</td>\n",
       "    </tr>\n",
       "    <tr>\n",
       "      <th>14986</th>\n",
       "      <td>0</td>\n",
       "      <td>1</td>\n",
       "      <td>2</td>\n",
       "      <td>1</td>\n",
       "      <td>1</td>\n",
       "      <td>0</td>\n",
       "      <td>0</td>\n",
       "      <td>1</td>\n",
       "      <td>True</td>\n",
       "      <td>1</td>\n",
       "      <td>0</td>\n",
       "      <td>1</td>\n",
       "      <td>0</td>\n",
       "      <td>1</td>\n",
       "      <td>0</td>\n",
       "    </tr>\n",
       "    <tr>\n",
       "      <th>14987</th>\n",
       "      <td>1</td>\n",
       "      <td>6</td>\n",
       "      <td>1</td>\n",
       "      <td>3</td>\n",
       "      <td>1</td>\n",
       "      <td>0</td>\n",
       "      <td>0</td>\n",
       "      <td>1</td>\n",
       "      <td>True</td>\n",
       "      <td>1</td>\n",
       "      <td>1</td>\n",
       "      <td>1</td>\n",
       "      <td>1</td>\n",
       "      <td>1</td>\n",
       "      <td>0</td>\n",
       "    </tr>\n",
       "    <tr>\n",
       "      <th>14988</th>\n",
       "      <td>1</td>\n",
       "      <td>2</td>\n",
       "      <td>2</td>\n",
       "      <td>2</td>\n",
       "      <td>4</td>\n",
       "      <td>0</td>\n",
       "      <td>0</td>\n",
       "      <td>3</td>\n",
       "      <td>False</td>\n",
       "      <td>0</td>\n",
       "      <td>0</td>\n",
       "      <td>1</td>\n",
       "      <td>0</td>\n",
       "      <td>0</td>\n",
       "      <td>0</td>\n",
       "    </tr>\n",
       "    <tr>\n",
       "      <th>14991</th>\n",
       "      <td>0</td>\n",
       "      <td>9</td>\n",
       "      <td>1</td>\n",
       "      <td>1</td>\n",
       "      <td>1</td>\n",
       "      <td>0</td>\n",
       "      <td>0</td>\n",
       "      <td>3</td>\n",
       "      <td>True</td>\n",
       "      <td>1</td>\n",
       "      <td>0</td>\n",
       "      <td>1</td>\n",
       "      <td>1</td>\n",
       "      <td>1</td>\n",
       "      <td>1</td>\n",
       "    </tr>\n",
       "    <tr>\n",
       "      <th>14992</th>\n",
       "      <td>0</td>\n",
       "      <td>1</td>\n",
       "      <td>2</td>\n",
       "      <td>1</td>\n",
       "      <td>1</td>\n",
       "      <td>0</td>\n",
       "      <td>0</td>\n",
       "      <td>1</td>\n",
       "      <td>True</td>\n",
       "      <td>0</td>\n",
       "      <td>1</td>\n",
       "      <td>1</td>\n",
       "      <td>0</td>\n",
       "      <td>0</td>\n",
       "      <td>0</td>\n",
       "    </tr>\n",
       "  </tbody>\n",
       "</table>\n",
       "<p>11268 rows × 15 columns</p>\n",
       "</div>"
      ],
      "text/plain": [
       "       AdoptionSpeed_Dummy  Age  MaturitySize  FurLength  Quantity  Fee  \\\n",
       "0                        1    3             1          1         1  100   \n",
       "2                        0    1             2          2         1    0   \n",
       "3                        1    4             2          1         1  150   \n",
       "4                        1    1             2          1         1    0   \n",
       "5                        1    3             2          1         1    0   \n",
       "...                    ...  ...           ...        ...       ...  ...   \n",
       "14986                    0    1             2          1         1    0   \n",
       "14987                    1    6             1          3         1    0   \n",
       "14988                    1    2             2          2         4    0   \n",
       "14991                    0    9             1          1         1    0   \n",
       "14992                    0    1             2          1         1    0   \n",
       "\n",
       "       VideoAmt  PhotoAmt  Named?  Gender_Dummy  Type_Dummy  Health_Dummy  \\\n",
       "0             0         1    True             0           0             1   \n",
       "2             0         7    True             0           1             1   \n",
       "3             0         8    True             1           1             1   \n",
       "4             0         3    True             0           1             1   \n",
       "5             0         2   False             1           0             1   \n",
       "...         ...       ...     ...           ...         ...           ...   \n",
       "14986         0         1    True             1           0             1   \n",
       "14987         0         1    True             1           1             1   \n",
       "14988         0         3   False             0           0             1   \n",
       "14991         0         3    True             1           0             1   \n",
       "14992         0         1    True             0           1             1   \n",
       "\n",
       "       Vaccinated_Dummy  Dewormed_Dummy  Sterilized_Dummy  \n",
       "0                     0               0                 0  \n",
       "2                     1               1                 0  \n",
       "3                     1               1                 0  \n",
       "4                     0               0                 0  \n",
       "5                     0               0                 0  \n",
       "...                 ...             ...               ...  \n",
       "14986                 0               1                 0  \n",
       "14987                 1               1                 0  \n",
       "14988                 0               0                 0  \n",
       "14991                 1               1                 1  \n",
       "14992                 0               0                 0  \n",
       "\n",
       "[11268 rows x 15 columns]"
      ]
     },
     "execution_count": 56,
     "metadata": {},
     "output_type": "execute_result"
    }
   ],
   "source": [
    "knn_features = ['AdoptionSpeed_Dummy',\"Age\",'MaturitySize','FurLength',\"Quantity\",\"Fee\",\n",
    "                \"VideoAmt\",\"PhotoAmt\",\"Named?\",'Gender_Dummy','Type_Dummy',\"Health_Dummy\",\n",
    "                \"Vaccinated_Dummy\",\"Dewormed_Dummy\",\"Sterilized_Dummy\"]\n",
    "\n",
    "knn_data = data[knn_features]\n",
    "\n",
    "knn_data"
   ]
  },
  {
   "cell_type": "code",
   "execution_count": 57,
   "metadata": {},
   "outputs": [],
   "source": [
    "#AdoptionSpeed_Dummy is our new classification variable\n",
    "y_knn = knn_data['AdoptionSpeed_Dummy']\n",
    "X_features = [i for i in knn_features[1:]]\n",
    "X_knn = knn_data[X_features]"
   ]
  },
  {
   "cell_type": "code",
   "execution_count": 58,
   "metadata": {},
   "outputs": [],
   "source": [
    "#Splitting the data into Training and Testing data#\n",
    "X_train_knn, X_test_knn, y_train_knn, y_test_knn = train_test_split(X_knn, y_knn, test_size=0.25, random_state=42)"
   ]
  },
  {
   "cell_type": "markdown",
   "metadata": {},
   "source": [
    "***Determining Optimum Number of Neighbours***"
   ]
  },
  {
   "cell_type": "code",
   "execution_count": 59,
   "metadata": {},
   "outputs": [
    {
     "name": "stdout",
     "output_type": "stream",
     "text": [
      "5-Fold Cross-validation Results:\n"
     ]
    },
    {
     "data": {
      "text/plain": [
       "{1: 0.559816851483139,\n",
       " 10: 0.5938949327977212,\n",
       " 25: 0.6046624839473859,\n",
       " 50: 0.6111714296711794,\n",
       " 75: 0.6127101011620868,\n",
       " 100: 0.6097511013755386,\n",
       " 500: 0.5922387579213308,\n",
       " 1000: 0.5957879340329415,\n",
       " 1500: 0.5940120162783129}"
      ]
     },
     "execution_count": 59,
     "metadata": {},
     "output_type": "execute_result"
    }
   ],
   "source": [
    "#Here I use cross validation to determine the optimum number of neighbours to\n",
    "#use in my KNN model\n",
    "from sklearn.neighbors import KNeighborsClassifier\n",
    "from sklearn.model_selection import cross_val_score\n",
    "\n",
    "test_ns = [1,10,25,50,75,100,500,1000,1500]\n",
    "scores = []\n",
    "\n",
    "for n in test_ns:\n",
    "    knn = KNeighborsClassifier(n_neighbors=n)\n",
    "    score = cross_val_score(knn,X_train_knn,y_train_knn,cv=5)\n",
    "    scores.append(score.mean())\n",
    "    \n",
    "cv_results = {}\n",
    "for i in range(len(test_ns)):\n",
    "    cv_results[test_ns[i]] = scores[i]\n",
    "    \n",
    "print(\"5-Fold Cross-validation Results:\")\n",
    "cv_results\n",
    "\n",
    "#Given our cross-validation results, the optimal number of neighbors to use is 75"
   ]
  },
  {
   "cell_type": "code",
   "execution_count": 60,
   "metadata": {},
   "outputs": [
    {
     "data": {
      "image/png": "[encoded data removed]",
      "text/plain": [
       "<Figure size 1080x432 with 1 Axes>"
      ]
     },
     "metadata": {
      "needs_background": "light"
     },
     "output_type": "display_data"
    }
   ],
   "source": [
    "plt.figure(figsize=(15,6))\n",
    "sns.lineplot(cv_results.keys(),cv_results.values(),marker=\"o\")\n",
    "plt.title(\"Cross Validation to Select Number of Neighbours\")\n",
    "plt.xlabel(\"Number of Neighbours\")\n",
    "plt.ylabel(\"Cross Validation Score\")\n",
    "plt.text(1150,0.61,\"Number of Neighbours:\")\n",
    "plt.text(1150,0.6075,test_ns)\n",
    "plt.show()"
   ]
  },
  {
   "cell_type": "code",
   "execution_count": 61,
   "metadata": {},
   "outputs": [
    {
     "data": {
      "image/png": "[encoded data removed]",
      "text/plain": [
       "<Figure size 1080x432 with 1 Axes>"
      ]
     },
     "metadata": {
      "needs_background": "light"
     },
     "output_type": "display_data"
    }
   ],
   "source": [
    "#Cross-Checking with Training Error#\n",
    "train_errors = []\n",
    "\n",
    "for neighbor in test_ns:\n",
    "    knn = KNeighborsClassifier(n_neighbors=neighbor)\n",
    "    knn.fit(X_train_knn,y_train_knn)\n",
    "    pred = knn.predict(X_train_knn)\n",
    "    \n",
    "    misclassifications = sum((y_train_knn - pred)**2)\n",
    "    total_predictions = len(pred)\n",
    "    train_error = (misclassifications/total_predictions) * 100\n",
    "    train_errors.append(train_error)\n",
    "    \n",
    "plt.figure(figsize=(15,6))\n",
    "plt.title(\"Training Error\")\n",
    "plt.plot(test_ns,train_errors,marker=\"o\")\n",
    "plt.show()\n"
   ]
  },
  {
   "cell_type": "code",
   "execution_count": 62,
   "metadata": {},
   "outputs": [
    {
     "data": {
      "image/png": "[encoded data removed]",
      "text/plain": [
       "<Figure size 1080x432 with 1 Axes>"
      ]
     },
     "metadata": {
      "needs_background": "light"
     },
     "output_type": "display_data"
    }
   ],
   "source": [
    "#Cross-Checking with Test Error#\n",
    "test_errors = []\n",
    "\n",
    "for neighbor in test_ns:\n",
    "    knn = KNeighborsClassifier(n_neighbors=neighbor)\n",
    "    knn.fit(X_train_knn,y_train_knn)\n",
    "    pred = knn.predict(X_test_knn)\n",
    "    \n",
    "    misclassifications = sum((y_test_knn - pred)**2)\n",
    "    total_predictions = len(pred)\n",
    "    #error = ((misclassifications/total_predictions) * 100)\n",
    "    #accuracies.append(accuracy)\n",
    "    test_error = (misclassifications/total_predictions) * 100\n",
    "    test_errors.append(test_error)\n",
    "    \n",
    "plt.figure(figsize=(15,6))\n",
    "plt.title(\"Testing Error\")\n",
    "plt.plot(test_ns,test_errors,marker=\"o\")\n",
    "plt.show()"
   ]
  },
  {
   "cell_type": "code",
   "execution_count": 63,
   "metadata": {},
   "outputs": [],
   "source": [
    "#In both of the above cases, the error seems to level off are around k = 75,\n",
    "#which backes up our cross-validation assessment"
   ]
  },
  {
   "cell_type": "markdown",
   "metadata": {},
   "source": [
    "***Final Model***"
   ]
  },
  {
   "cell_type": "code",
   "execution_count": 64,
   "metadata": {},
   "outputs": [
    {
     "name": "stdout",
     "output_type": "stream",
     "text": [
      "Training Accuracy: 62.88% (2dp)\n"
     ]
    }
   ],
   "source": [
    "from sklearn.neighbors import KNeighborsClassifier\n",
    "\n",
    "knn = KNeighborsClassifier(n_neighbors=75)\n",
    "knn.fit(X_train_knn,y_train_knn)\n",
    "pred = knn.predict(X_train_knn)\n",
    "    \n",
    "misclassifications = sum((y_train_knn - pred)**2)\n",
    "total_predictions = len(pred)\n",
    "accuracy = 100 - ((misclassifications/total_predictions) * 100)\n",
    "print(\"Training Accuracy: \" + \"{:.2f}\".format(accuracy) + \"% (2dp)\")"
   ]
  },
  {
   "cell_type": "code",
   "execution_count": 65,
   "metadata": {},
   "outputs": [
    {
     "name": "stdout",
     "output_type": "stream",
     "text": [
      "Test Accuracy: 61.34% (2dp)\n"
     ]
    }
   ],
   "source": [
    "pred = knn.predict(X_test_knn)\n",
    "    \n",
    "misclassifications = sum((y_test_knn - pred)**2)\n",
    "total_predictions = len(pred)\n",
    "accuracy = 100 - ((misclassifications/total_predictions) * 100)\n",
    "print(\"Test Accuracy: \" + \"{:.2f}\".format(accuracy) + \"% (2dp)\")"
   ]
  },
  {
   "cell_type": "code",
   "execution_count": 66,
   "metadata": {},
   "outputs": [
    {
     "name": "stdout",
     "output_type": "stream",
     "text": [
      "Percentage of total features used (LR): 45.45% (2dp)\n",
      "Percentage of total features used (KNN): 45.45% (2dp)\n"
     ]
    }
   ],
   "source": [
    "#Both models exhibit fairly poor training and test error (although KNN performs slightly\n",
    "#better) as we have lost predictive power - these models can only use the numerical data \n",
    "#or data the can be coded numerically in a way that makes sense. These features make up \n",
    "#only 45% of all available features.\n",
    "\n",
    "features_used_percent_LR = ((len(LR_features)+1)/len(data.columns) * 100)\n",
    "# +1 here accounts for AdoptionSpeed_Dummy\n",
    "features_used_percent_knn = (len(knn_features)/len(data.columns) * 100)\n",
    "print(\"Percentage of total features used (LR): \" + \"{:.2f}\".format(features_used_percent_LR) + \"% (2dp)\")\n",
    "print(\"Percentage of total features used (KNN): \" + \"{:.2f}\".format(features_used_percent_knn) + \"% (2dp)\")"
   ]
  },
  {
   "cell_type": "markdown",
   "metadata": {},
   "source": [
    "# 5. Future Analysis Extensions"
   ]
  },
  {
   "cell_type": "markdown",
   "metadata": {},
   "source": [
    "**One Hot Encoding (OHE)**\n",
    "- In order to include the other categorical variables such as StateName, BreedName, ColorName, amongst others, I would use OHE\n",
    "- We must use OHE in these cases, as doing label encoding alone (i.e. assigning numbers to different categories - Cream = 1, Black = 2, Brown = 3) implies an order, however these categories do not have an inherent order like size (Small = 1, Medium = 2, Large = 3 makes sense)\n",
    "- It is important that we respect this concept of order as well as ensure that the distances between categories is proportionate given that we use distances to make classifications in KNN"
   ]
  }
 ],
 "metadata": {
  "kernelspec": {
   "display_name": "Python 3 (ipykernel)",
   "language": "python",
   "name": "python3"
  },
  "language_info": {
   "codemirror_mode": {
    "name": "ipython",
    "version": 3
   },
   "file_extension": ".py",
   "mimetype": "text/x-python",
   "name": "python",
   "nbconvert_exporter": "python",
   "pygments_lexer": "ipython3",
   "version": "3.7.3"
  }
 },
 "nbformat": 4,
 "nbformat_minor": 2
}
